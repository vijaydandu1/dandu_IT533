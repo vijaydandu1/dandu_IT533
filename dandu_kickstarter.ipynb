{
  "nbformat": 4,
  "nbformat_minor": 0,
  "metadata": {
    "colab": {
      "name": "dandu_kickstarter.ipynb",
      "provenance": [],
      "authorship_tag": "ABX9TyNUtHALIhL+/rvjn9CqKMSY",
      "include_colab_link": true
    },
    "kernelspec": {
      "name": "python3",
      "display_name": "Python 3"
    },
    "language_info": {
      "name": "python"
    }
  },
  "cells": [
    {
      "cell_type": "markdown",
      "metadata": {
        "id": "view-in-github",
        "colab_type": "text"
      },
      "source": [
        "<a href=\"https://colab.research.google.com/github/vijaydandu1/dandu_IT533/blob/main/dandu_kickstarter.ipynb\" target=\"_parent\"><img src=\"https://colab.research.google.com/assets/colab-badge.svg\" alt=\"Open In Colab\"/></a>"
      ]
    },
    {
      "cell_type": "code",
      "execution_count": 2,
      "metadata": {
        "id": "AUT1CWsJr7xV"
      },
      "outputs": [],
      "source": [
        "# importing all necessary libraries \n",
        "import numpy as np\n",
        "import pandas as pd\n",
        "import matplotlib.pyplot as plt"
      ]
    },
    {
      "cell_type": "code",
      "source": [
        "# Using pandas library to import Kickstarter dataset from Github\n",
        "kickstart = pd.read_csv(\"https://raw.githubusercontent.com/vijaydandu1/dandu_IT533/main/kickstarter.csv\", encoding =\"ISO-8859-1\")"
      ],
      "metadata": {
        "id": "UrZ3jRr_s1hH"
      },
      "execution_count": 3,
      "outputs": []
    },
    {
      "cell_type": "code",
      "source": [
        "#displaying the dataset\n",
        "kickstart"
      ],
      "metadata": {
        "colab": {
          "base_uri": "https://localhost:8080/",
          "height": 904
        },
        "id": "2id8wIQ9tfeL",
        "outputId": "01abfffe-421e-4338-babe-4c9a9341715c"
      },
      "execution_count": 4,
      "outputs": [
        {
          "output_type": "execute_result",
          "data": {
            "text/plain": [
              "                ID                                               name  \\\n",
              "0       1008941852                       The return of BABY UNIVERSE!   \n",
              "1       1013503401                                             Potjie   \n",
              "2       1020446396  Stilt City- A Bungalow Artist Space in The Roc...   \n",
              "3       1028008131       A 2D SideScroller RPG Made by YOU (Canceled)   \n",
              "4       1049544313                                       Balteus Belt   \n",
              "...            ...                                                ...   \n",
              "191580    55596200                         Plateforme de statistiques   \n",
              "191581   872683023  The Lewisham Ledger - a new free local communi...   \n",
              "191582  1036415983                                      Aikyam : Onnu   \n",
              "191583  1916988520                          Back in Black Hills Movie   \n",
              "191584    22387366                                       Nerd Collect   \n",
              "\n",
              "           category main_category currency  deadline    goal  \\\n",
              "0         Immersive       Theater      USD  1/1/2015   15000   \n",
              "1             Drama  Film & Video      GBP  1/1/2015    4500   \n",
              "2        Public Art           Art      USD  1/1/2015   60000   \n",
              "3       Video Games         Games      USD  1/1/2015   20000   \n",
              "4           Apparel       Fashion      USD  1/1/2015    8000   \n",
              "...             ...           ...      ...       ...     ...   \n",
              "191580         Apps    Technology      EUR  3/2/2018    9000   \n",
              "191581        Print    Journalism      GBP  3/2/2018    5000   \n",
              "191582        Music         Music      USD  3/3/2018   10000   \n",
              "191583        Drama  Film & Video      USD  3/3/2018    5500   \n",
              "191584         Apps    Technology      GBP  3/3/2018  150000   \n",
              "\n",
              "                launched   pledged       state  backers country  usd pledged  \\\n",
              "0        12/4/2014 21:37  11880.18      failed       46      US     11880.18   \n",
              "1        12/2/2014 18:10   4843.00  successful       67      GB      7560.32   \n",
              "2       11/19/2014 23:14  18087.00    canceled      204      US     18087.00   \n",
              "3        12/2/2014 22:02      9.00    canceled        2      US         9.00   \n",
              "4       11/18/2014 21:17   1563.00      failed       16      US      1563.00   \n",
              "...                  ...       ...         ...      ...     ...          ...   \n",
              "191580    1/1/2018 15:40      0.00        live        0      FR         0.00   \n",
              "191581    1/1/2018 21:20    350.00        live        7      GB       364.86   \n",
              "191582     1/2/2018 8:11    174.00        live        3      US       174.00   \n",
              "191583     1/2/2018 1:16      0.00        live        0      US         0.00   \n",
              "191584     1/2/2018 3:26      0.00        live        0      GB         0.00   \n",
              "\n",
              "        usd_pledged_real  usd_goal_real  \n",
              "0               11880.18       15000.00  \n",
              "1                7477.46        6947.88  \n",
              "2               18087.00       60000.00  \n",
              "3                   9.00       20000.00  \n",
              "4                1563.00        8000.00  \n",
              "...                  ...            ...  \n",
              "191580              0.00       10923.26  \n",
              "191581            477.39        6819.89  \n",
              "191582            174.00       10000.00  \n",
              "191583              0.00        5500.00  \n",
              "191584              0.00      204596.60  \n",
              "\n",
              "[191585 rows x 15 columns]"
            ],
            "text/html": [
              "\n",
              "  <div id=\"df-26a4daa6-c3cd-43d3-9adc-cc55ea0333ff\">\n",
              "    <div class=\"colab-df-container\">\n",
              "      <div>\n",
              "<style scoped>\n",
              "    .dataframe tbody tr th:only-of-type {\n",
              "        vertical-align: middle;\n",
              "    }\n",
              "\n",
              "    .dataframe tbody tr th {\n",
              "        vertical-align: top;\n",
              "    }\n",
              "\n",
              "    .dataframe thead th {\n",
              "        text-align: right;\n",
              "    }\n",
              "</style>\n",
              "<table border=\"1\" class=\"dataframe\">\n",
              "  <thead>\n",
              "    <tr style=\"text-align: right;\">\n",
              "      <th></th>\n",
              "      <th>ID</th>\n",
              "      <th>name</th>\n",
              "      <th>category</th>\n",
              "      <th>main_category</th>\n",
              "      <th>currency</th>\n",
              "      <th>deadline</th>\n",
              "      <th>goal</th>\n",
              "      <th>launched</th>\n",
              "      <th>pledged</th>\n",
              "      <th>state</th>\n",
              "      <th>backers</th>\n",
              "      <th>country</th>\n",
              "      <th>usd pledged</th>\n",
              "      <th>usd_pledged_real</th>\n",
              "      <th>usd_goal_real</th>\n",
              "    </tr>\n",
              "  </thead>\n",
              "  <tbody>\n",
              "    <tr>\n",
              "      <th>0</th>\n",
              "      <td>1008941852</td>\n",
              "      <td>The return of BABY UNIVERSE!</td>\n",
              "      <td>Immersive</td>\n",
              "      <td>Theater</td>\n",
              "      <td>USD</td>\n",
              "      <td>1/1/2015</td>\n",
              "      <td>15000</td>\n",
              "      <td>12/4/2014 21:37</td>\n",
              "      <td>11880.18</td>\n",
              "      <td>failed</td>\n",
              "      <td>46</td>\n",
              "      <td>US</td>\n",
              "      <td>11880.18</td>\n",
              "      <td>11880.18</td>\n",
              "      <td>15000.00</td>\n",
              "    </tr>\n",
              "    <tr>\n",
              "      <th>1</th>\n",
              "      <td>1013503401</td>\n",
              "      <td>Potjie</td>\n",
              "      <td>Drama</td>\n",
              "      <td>Film &amp; Video</td>\n",
              "      <td>GBP</td>\n",
              "      <td>1/1/2015</td>\n",
              "      <td>4500</td>\n",
              "      <td>12/2/2014 18:10</td>\n",
              "      <td>4843.00</td>\n",
              "      <td>successful</td>\n",
              "      <td>67</td>\n",
              "      <td>GB</td>\n",
              "      <td>7560.32</td>\n",
              "      <td>7477.46</td>\n",
              "      <td>6947.88</td>\n",
              "    </tr>\n",
              "    <tr>\n",
              "      <th>2</th>\n",
              "      <td>1020446396</td>\n",
              "      <td>Stilt City- A Bungalow Artist Space in The Roc...</td>\n",
              "      <td>Public Art</td>\n",
              "      <td>Art</td>\n",
              "      <td>USD</td>\n",
              "      <td>1/1/2015</td>\n",
              "      <td>60000</td>\n",
              "      <td>11/19/2014 23:14</td>\n",
              "      <td>18087.00</td>\n",
              "      <td>canceled</td>\n",
              "      <td>204</td>\n",
              "      <td>US</td>\n",
              "      <td>18087.00</td>\n",
              "      <td>18087.00</td>\n",
              "      <td>60000.00</td>\n",
              "    </tr>\n",
              "    <tr>\n",
              "      <th>3</th>\n",
              "      <td>1028008131</td>\n",
              "      <td>A 2D SideScroller RPG Made by YOU (Canceled)</td>\n",
              "      <td>Video Games</td>\n",
              "      <td>Games</td>\n",
              "      <td>USD</td>\n",
              "      <td>1/1/2015</td>\n",
              "      <td>20000</td>\n",
              "      <td>12/2/2014 22:02</td>\n",
              "      <td>9.00</td>\n",
              "      <td>canceled</td>\n",
              "      <td>2</td>\n",
              "      <td>US</td>\n",
              "      <td>9.00</td>\n",
              "      <td>9.00</td>\n",
              "      <td>20000.00</td>\n",
              "    </tr>\n",
              "    <tr>\n",
              "      <th>4</th>\n",
              "      <td>1049544313</td>\n",
              "      <td>Balteus Belt</td>\n",
              "      <td>Apparel</td>\n",
              "      <td>Fashion</td>\n",
              "      <td>USD</td>\n",
              "      <td>1/1/2015</td>\n",
              "      <td>8000</td>\n",
              "      <td>11/18/2014 21:17</td>\n",
              "      <td>1563.00</td>\n",
              "      <td>failed</td>\n",
              "      <td>16</td>\n",
              "      <td>US</td>\n",
              "      <td>1563.00</td>\n",
              "      <td>1563.00</td>\n",
              "      <td>8000.00</td>\n",
              "    </tr>\n",
              "    <tr>\n",
              "      <th>...</th>\n",
              "      <td>...</td>\n",
              "      <td>...</td>\n",
              "      <td>...</td>\n",
              "      <td>...</td>\n",
              "      <td>...</td>\n",
              "      <td>...</td>\n",
              "      <td>...</td>\n",
              "      <td>...</td>\n",
              "      <td>...</td>\n",
              "      <td>...</td>\n",
              "      <td>...</td>\n",
              "      <td>...</td>\n",
              "      <td>...</td>\n",
              "      <td>...</td>\n",
              "      <td>...</td>\n",
              "    </tr>\n",
              "    <tr>\n",
              "      <th>191580</th>\n",
              "      <td>55596200</td>\n",
              "      <td>Plateforme de statistiques</td>\n",
              "      <td>Apps</td>\n",
              "      <td>Technology</td>\n",
              "      <td>EUR</td>\n",
              "      <td>3/2/2018</td>\n",
              "      <td>9000</td>\n",
              "      <td>1/1/2018 15:40</td>\n",
              "      <td>0.00</td>\n",
              "      <td>live</td>\n",
              "      <td>0</td>\n",
              "      <td>FR</td>\n",
              "      <td>0.00</td>\n",
              "      <td>0.00</td>\n",
              "      <td>10923.26</td>\n",
              "    </tr>\n",
              "    <tr>\n",
              "      <th>191581</th>\n",
              "      <td>872683023</td>\n",
              "      <td>The Lewisham Ledger - a new free local communi...</td>\n",
              "      <td>Print</td>\n",
              "      <td>Journalism</td>\n",
              "      <td>GBP</td>\n",
              "      <td>3/2/2018</td>\n",
              "      <td>5000</td>\n",
              "      <td>1/1/2018 21:20</td>\n",
              "      <td>350.00</td>\n",
              "      <td>live</td>\n",
              "      <td>7</td>\n",
              "      <td>GB</td>\n",
              "      <td>364.86</td>\n",
              "      <td>477.39</td>\n",
              "      <td>6819.89</td>\n",
              "    </tr>\n",
              "    <tr>\n",
              "      <th>191582</th>\n",
              "      <td>1036415983</td>\n",
              "      <td>Aikyam : Onnu</td>\n",
              "      <td>Music</td>\n",
              "      <td>Music</td>\n",
              "      <td>USD</td>\n",
              "      <td>3/3/2018</td>\n",
              "      <td>10000</td>\n",
              "      <td>1/2/2018 8:11</td>\n",
              "      <td>174.00</td>\n",
              "      <td>live</td>\n",
              "      <td>3</td>\n",
              "      <td>US</td>\n",
              "      <td>174.00</td>\n",
              "      <td>174.00</td>\n",
              "      <td>10000.00</td>\n",
              "    </tr>\n",
              "    <tr>\n",
              "      <th>191583</th>\n",
              "      <td>1916988520</td>\n",
              "      <td>Back in Black Hills Movie</td>\n",
              "      <td>Drama</td>\n",
              "      <td>Film &amp; Video</td>\n",
              "      <td>USD</td>\n",
              "      <td>3/3/2018</td>\n",
              "      <td>5500</td>\n",
              "      <td>1/2/2018 1:16</td>\n",
              "      <td>0.00</td>\n",
              "      <td>live</td>\n",
              "      <td>0</td>\n",
              "      <td>US</td>\n",
              "      <td>0.00</td>\n",
              "      <td>0.00</td>\n",
              "      <td>5500.00</td>\n",
              "    </tr>\n",
              "    <tr>\n",
              "      <th>191584</th>\n",
              "      <td>22387366</td>\n",
              "      <td>Nerd Collect</td>\n",
              "      <td>Apps</td>\n",
              "      <td>Technology</td>\n",
              "      <td>GBP</td>\n",
              "      <td>3/3/2018</td>\n",
              "      <td>150000</td>\n",
              "      <td>1/2/2018 3:26</td>\n",
              "      <td>0.00</td>\n",
              "      <td>live</td>\n",
              "      <td>0</td>\n",
              "      <td>GB</td>\n",
              "      <td>0.00</td>\n",
              "      <td>0.00</td>\n",
              "      <td>204596.60</td>\n",
              "    </tr>\n",
              "  </tbody>\n",
              "</table>\n",
              "<p>191585 rows × 15 columns</p>\n",
              "</div>\n",
              "      <button class=\"colab-df-convert\" onclick=\"convertToInteractive('df-26a4daa6-c3cd-43d3-9adc-cc55ea0333ff')\"\n",
              "              title=\"Convert this dataframe to an interactive table.\"\n",
              "              style=\"display:none;\">\n",
              "        \n",
              "  <svg xmlns=\"http://www.w3.org/2000/svg\" height=\"24px\"viewBox=\"0 0 24 24\"\n",
              "       width=\"24px\">\n",
              "    <path d=\"M0 0h24v24H0V0z\" fill=\"none\"/>\n",
              "    <path d=\"M18.56 5.44l.94 2.06.94-2.06 2.06-.94-2.06-.94-.94-2.06-.94 2.06-2.06.94zm-11 1L8.5 8.5l.94-2.06 2.06-.94-2.06-.94L8.5 2.5l-.94 2.06-2.06.94zm10 10l.94 2.06.94-2.06 2.06-.94-2.06-.94-.94-2.06-.94 2.06-2.06.94z\"/><path d=\"M17.41 7.96l-1.37-1.37c-.4-.4-.92-.59-1.43-.59-.52 0-1.04.2-1.43.59L10.3 9.45l-7.72 7.72c-.78.78-.78 2.05 0 2.83L4 21.41c.39.39.9.59 1.41.59.51 0 1.02-.2 1.41-.59l7.78-7.78 2.81-2.81c.8-.78.8-2.07 0-2.86zM5.41 20L4 18.59l7.72-7.72 1.47 1.35L5.41 20z\"/>\n",
              "  </svg>\n",
              "      </button>\n",
              "      \n",
              "  <style>\n",
              "    .colab-df-container {\n",
              "      display:flex;\n",
              "      flex-wrap:wrap;\n",
              "      gap: 12px;\n",
              "    }\n",
              "\n",
              "    .colab-df-convert {\n",
              "      background-color: #E8F0FE;\n",
              "      border: none;\n",
              "      border-radius: 50%;\n",
              "      cursor: pointer;\n",
              "      display: none;\n",
              "      fill: #1967D2;\n",
              "      height: 32px;\n",
              "      padding: 0 0 0 0;\n",
              "      width: 32px;\n",
              "    }\n",
              "\n",
              "    .colab-df-convert:hover {\n",
              "      background-color: #E2EBFA;\n",
              "      box-shadow: 0px 1px 2px rgba(60, 64, 67, 0.3), 0px 1px 3px 1px rgba(60, 64, 67, 0.15);\n",
              "      fill: #174EA6;\n",
              "    }\n",
              "\n",
              "    [theme=dark] .colab-df-convert {\n",
              "      background-color: #3B4455;\n",
              "      fill: #D2E3FC;\n",
              "    }\n",
              "\n",
              "    [theme=dark] .colab-df-convert:hover {\n",
              "      background-color: #434B5C;\n",
              "      box-shadow: 0px 1px 3px 1px rgba(0, 0, 0, 0.15);\n",
              "      filter: drop-shadow(0px 1px 2px rgba(0, 0, 0, 0.3));\n",
              "      fill: #FFFFFF;\n",
              "    }\n",
              "  </style>\n",
              "\n",
              "      <script>\n",
              "        const buttonEl =\n",
              "          document.querySelector('#df-26a4daa6-c3cd-43d3-9adc-cc55ea0333ff button.colab-df-convert');\n",
              "        buttonEl.style.display =\n",
              "          google.colab.kernel.accessAllowed ? 'block' : 'none';\n",
              "\n",
              "        async function convertToInteractive(key) {\n",
              "          const element = document.querySelector('#df-26a4daa6-c3cd-43d3-9adc-cc55ea0333ff');\n",
              "          const dataTable =\n",
              "            await google.colab.kernel.invokeFunction('convertToInteractive',\n",
              "                                                     [key], {});\n",
              "          if (!dataTable) return;\n",
              "\n",
              "          const docLinkHtml = 'Like what you see? Visit the ' +\n",
              "            '<a target=\"_blank\" href=https://colab.research.google.com/notebooks/data_table.ipynb>data table notebook</a>'\n",
              "            + ' to learn more about interactive tables.';\n",
              "          element.innerHTML = '';\n",
              "          dataTable['output_type'] = 'display_data';\n",
              "          await google.colab.output.renderOutput(dataTable, element);\n",
              "          const docLink = document.createElement('div');\n",
              "          docLink.innerHTML = docLinkHtml;\n",
              "          element.appendChild(docLink);\n",
              "        }\n",
              "      </script>\n",
              "    </div>\n",
              "  </div>\n",
              "  "
            ]
          },
          "metadata": {},
          "execution_count": 4
        }
      ]
    },
    {
      "cell_type": "code",
      "source": [
        "kickstart.currency.unique()"
      ],
      "metadata": {
        "colab": {
          "base_uri": "https://localhost:8080/"
        },
        "id": "Iugg_prgEf4y",
        "outputId": "180467fa-9398-47b9-8336-f20a6367c0a5"
      },
      "execution_count": 5,
      "outputs": [
        {
          "output_type": "execute_result",
          "data": {
            "text/plain": [
              "array(['USD', 'GBP', 'CAD', 'DKK', 'EUR', 'AUD', 'NOK', 'SEK', 'NZD',\n",
              "       'CHF', 'SGD', 'HKD', 'MXN', 'JPY'], dtype=object)"
            ]
          },
          "metadata": {},
          "execution_count": 5
        }
      ]
    },
    {
      "cell_type": "code",
      "source": [
        "# To find the structure of dataset.\n",
        "kickstart.info"
      ],
      "metadata": {
        "colab": {
          "base_uri": "https://localhost:8080/"
        },
        "id": "Z9mWVmxozAd8",
        "outputId": "a7a634e1-9c96-4ecf-81a5-1169085d88c9"
      },
      "execution_count": 6,
      "outputs": [
        {
          "output_type": "execute_result",
          "data": {
            "text/plain": [
              "<bound method DataFrame.info of                 ID                                               name  \\\n",
              "0       1008941852                       The return of BABY UNIVERSE!   \n",
              "1       1013503401                                             Potjie   \n",
              "2       1020446396  Stilt City- A Bungalow Artist Space in The Roc...   \n",
              "3       1028008131       A 2D SideScroller RPG Made by YOU (Canceled)   \n",
              "4       1049544313                                       Balteus Belt   \n",
              "...            ...                                                ...   \n",
              "191580    55596200                         Plateforme de statistiques   \n",
              "191581   872683023  The Lewisham Ledger - a new free local communi...   \n",
              "191582  1036415983                                      Aikyam : Onnu   \n",
              "191583  1916988520                          Back in Black Hills Movie   \n",
              "191584    22387366                                       Nerd Collect   \n",
              "\n",
              "           category main_category currency  deadline    goal  \\\n",
              "0         Immersive       Theater      USD  1/1/2015   15000   \n",
              "1             Drama  Film & Video      GBP  1/1/2015    4500   \n",
              "2        Public Art           Art      USD  1/1/2015   60000   \n",
              "3       Video Games         Games      USD  1/1/2015   20000   \n",
              "4           Apparel       Fashion      USD  1/1/2015    8000   \n",
              "...             ...           ...      ...       ...     ...   \n",
              "191580         Apps    Technology      EUR  3/2/2018    9000   \n",
              "191581        Print    Journalism      GBP  3/2/2018    5000   \n",
              "191582        Music         Music      USD  3/3/2018   10000   \n",
              "191583        Drama  Film & Video      USD  3/3/2018    5500   \n",
              "191584         Apps    Technology      GBP  3/3/2018  150000   \n",
              "\n",
              "                launched   pledged       state  backers country  usd pledged  \\\n",
              "0        12/4/2014 21:37  11880.18      failed       46      US     11880.18   \n",
              "1        12/2/2014 18:10   4843.00  successful       67      GB      7560.32   \n",
              "2       11/19/2014 23:14  18087.00    canceled      204      US     18087.00   \n",
              "3        12/2/2014 22:02      9.00    canceled        2      US         9.00   \n",
              "4       11/18/2014 21:17   1563.00      failed       16      US      1563.00   \n",
              "...                  ...       ...         ...      ...     ...          ...   \n",
              "191580    1/1/2018 15:40      0.00        live        0      FR         0.00   \n",
              "191581    1/1/2018 21:20    350.00        live        7      GB       364.86   \n",
              "191582     1/2/2018 8:11    174.00        live        3      US       174.00   \n",
              "191583     1/2/2018 1:16      0.00        live        0      US         0.00   \n",
              "191584     1/2/2018 3:26      0.00        live        0      GB         0.00   \n",
              "\n",
              "        usd_pledged_real  usd_goal_real  \n",
              "0               11880.18       15000.00  \n",
              "1                7477.46        6947.88  \n",
              "2               18087.00       60000.00  \n",
              "3                   9.00       20000.00  \n",
              "4                1563.00        8000.00  \n",
              "...                  ...            ...  \n",
              "191580              0.00       10923.26  \n",
              "191581            477.39        6819.89  \n",
              "191582            174.00       10000.00  \n",
              "191583              0.00        5500.00  \n",
              "191584              0.00      204596.60  \n",
              "\n",
              "[191585 rows x 15 columns]>"
            ]
          },
          "metadata": {},
          "execution_count": 6
        }
      ]
    },
    {
      "cell_type": "code",
      "source": [
        "#Displays the rows and columns of dataset\n",
        "kickstart.shape"
      ],
      "metadata": {
        "colab": {
          "base_uri": "https://localhost:8080/"
        },
        "id": "_QKR44ZsrY4Y",
        "outputId": "eee4873d-2bdb-45a3-a2a1-c6198d09c839"
      },
      "execution_count": 7,
      "outputs": [
        {
          "output_type": "execute_result",
          "data": {
            "text/plain": [
              "(191585, 15)"
            ]
          },
          "metadata": {},
          "execution_count": 7
        }
      ]
    },
    {
      "cell_type": "code",
      "source": [
        "#displays the datatypes used in the dataset\n",
        "kickstart.dtypes"
      ],
      "metadata": {
        "colab": {
          "base_uri": "https://localhost:8080/"
        },
        "id": "oP7O9kaqzGVc",
        "outputId": "54ab1f0b-5fcb-445b-a156-b2be96798e18"
      },
      "execution_count": 8,
      "outputs": [
        {
          "output_type": "execute_result",
          "data": {
            "text/plain": [
              "ID                    int64\n",
              "name                 object\n",
              "category             object\n",
              "main_category        object\n",
              "currency             object\n",
              "deadline             object\n",
              "goal                  int64\n",
              "launched             object\n",
              "pledged             float64\n",
              "state                object\n",
              "backers               int64\n",
              "country              object\n",
              "usd pledged         float64\n",
              "usd_pledged_real    float64\n",
              "usd_goal_real       float64\n",
              "dtype: object"
            ]
          },
          "metadata": {},
          "execution_count": 8
        }
      ]
    },
    {
      "cell_type": "code",
      "source": [
        "#To get the 5 number summary and standard deviation\n",
        "kickstart.describe()"
      ],
      "metadata": {
        "colab": {
          "base_uri": "https://localhost:8080/",
          "height": 300
        },
        "id": "Z-5ijqma0oRd",
        "outputId": "1a4df97e-505c-4035-ef33-22a1ea5ee8c4"
      },
      "execution_count": 9,
      "outputs": [
        {
          "output_type": "execute_result",
          "data": {
            "text/plain": [
              "                 ID          goal       pledged        backers   usd pledged  \\\n",
              "count  1.915850e+05  1.915850e+05  1.915850e+05  191585.000000  1.884460e+05   \n",
              "mean   1.074702e+09  6.802579e+04  1.180005e+04     112.877856  6.433574e+03   \n",
              "std    6.190040e+08  1.490468e+06  1.154681e+05    1018.007075  8.641710e+04   \n",
              "min    1.852000e+04  1.000000e+00  0.000000e+00       0.000000  0.000000e+00   \n",
              "25%    5.394764e+08  2.000000e+03  1.300000e+01       1.000000  7.700000e-01   \n",
              "50%    1.075748e+09  6.500000e+03  4.070000e+02       8.000000  1.450000e+02   \n",
              "75%    1.609346e+09  2.000000e+04  3.823000e+03      50.000000  1.642553e+03   \n",
              "max    2.147476e+09  1.000000e+08  2.033899e+07  219382.000000  2.033899e+07   \n",
              "\n",
              "       usd_pledged_real  usd_goal_real  \n",
              "count      1.915850e+05   1.915850e+05  \n",
              "mean       1.044187e+04   6.028766e+04  \n",
              "std        1.075172e+05   1.413783e+06  \n",
              "min        0.000000e+00   4.900000e-01  \n",
              "25%        1.315000e+01   2.000000e+03  \n",
              "50%        3.929600e+02   6.262450e+03  \n",
              "75%        3.661280e+03   2.000000e+04  \n",
              "max        2.033899e+07   1.513959e+08  "
            ],
            "text/html": [
              "\n",
              "  <div id=\"df-bde86262-d256-44bf-bacf-5f0303c3f302\">\n",
              "    <div class=\"colab-df-container\">\n",
              "      <div>\n",
              "<style scoped>\n",
              "    .dataframe tbody tr th:only-of-type {\n",
              "        vertical-align: middle;\n",
              "    }\n",
              "\n",
              "    .dataframe tbody tr th {\n",
              "        vertical-align: top;\n",
              "    }\n",
              "\n",
              "    .dataframe thead th {\n",
              "        text-align: right;\n",
              "    }\n",
              "</style>\n",
              "<table border=\"1\" class=\"dataframe\">\n",
              "  <thead>\n",
              "    <tr style=\"text-align: right;\">\n",
              "      <th></th>\n",
              "      <th>ID</th>\n",
              "      <th>goal</th>\n",
              "      <th>pledged</th>\n",
              "      <th>backers</th>\n",
              "      <th>usd pledged</th>\n",
              "      <th>usd_pledged_real</th>\n",
              "      <th>usd_goal_real</th>\n",
              "    </tr>\n",
              "  </thead>\n",
              "  <tbody>\n",
              "    <tr>\n",
              "      <th>count</th>\n",
              "      <td>1.915850e+05</td>\n",
              "      <td>1.915850e+05</td>\n",
              "      <td>1.915850e+05</td>\n",
              "      <td>191585.000000</td>\n",
              "      <td>1.884460e+05</td>\n",
              "      <td>1.915850e+05</td>\n",
              "      <td>1.915850e+05</td>\n",
              "    </tr>\n",
              "    <tr>\n",
              "      <th>mean</th>\n",
              "      <td>1.074702e+09</td>\n",
              "      <td>6.802579e+04</td>\n",
              "      <td>1.180005e+04</td>\n",
              "      <td>112.877856</td>\n",
              "      <td>6.433574e+03</td>\n",
              "      <td>1.044187e+04</td>\n",
              "      <td>6.028766e+04</td>\n",
              "    </tr>\n",
              "    <tr>\n",
              "      <th>std</th>\n",
              "      <td>6.190040e+08</td>\n",
              "      <td>1.490468e+06</td>\n",
              "      <td>1.154681e+05</td>\n",
              "      <td>1018.007075</td>\n",
              "      <td>8.641710e+04</td>\n",
              "      <td>1.075172e+05</td>\n",
              "      <td>1.413783e+06</td>\n",
              "    </tr>\n",
              "    <tr>\n",
              "      <th>min</th>\n",
              "      <td>1.852000e+04</td>\n",
              "      <td>1.000000e+00</td>\n",
              "      <td>0.000000e+00</td>\n",
              "      <td>0.000000</td>\n",
              "      <td>0.000000e+00</td>\n",
              "      <td>0.000000e+00</td>\n",
              "      <td>4.900000e-01</td>\n",
              "    </tr>\n",
              "    <tr>\n",
              "      <th>25%</th>\n",
              "      <td>5.394764e+08</td>\n",
              "      <td>2.000000e+03</td>\n",
              "      <td>1.300000e+01</td>\n",
              "      <td>1.000000</td>\n",
              "      <td>7.700000e-01</td>\n",
              "      <td>1.315000e+01</td>\n",
              "      <td>2.000000e+03</td>\n",
              "    </tr>\n",
              "    <tr>\n",
              "      <th>50%</th>\n",
              "      <td>1.075748e+09</td>\n",
              "      <td>6.500000e+03</td>\n",
              "      <td>4.070000e+02</td>\n",
              "      <td>8.000000</td>\n",
              "      <td>1.450000e+02</td>\n",
              "      <td>3.929600e+02</td>\n",
              "      <td>6.262450e+03</td>\n",
              "    </tr>\n",
              "    <tr>\n",
              "      <th>75%</th>\n",
              "      <td>1.609346e+09</td>\n",
              "      <td>2.000000e+04</td>\n",
              "      <td>3.823000e+03</td>\n",
              "      <td>50.000000</td>\n",
              "      <td>1.642553e+03</td>\n",
              "      <td>3.661280e+03</td>\n",
              "      <td>2.000000e+04</td>\n",
              "    </tr>\n",
              "    <tr>\n",
              "      <th>max</th>\n",
              "      <td>2.147476e+09</td>\n",
              "      <td>1.000000e+08</td>\n",
              "      <td>2.033899e+07</td>\n",
              "      <td>219382.000000</td>\n",
              "      <td>2.033899e+07</td>\n",
              "      <td>2.033899e+07</td>\n",
              "      <td>1.513959e+08</td>\n",
              "    </tr>\n",
              "  </tbody>\n",
              "</table>\n",
              "</div>\n",
              "      <button class=\"colab-df-convert\" onclick=\"convertToInteractive('df-bde86262-d256-44bf-bacf-5f0303c3f302')\"\n",
              "              title=\"Convert this dataframe to an interactive table.\"\n",
              "              style=\"display:none;\">\n",
              "        \n",
              "  <svg xmlns=\"http://www.w3.org/2000/svg\" height=\"24px\"viewBox=\"0 0 24 24\"\n",
              "       width=\"24px\">\n",
              "    <path d=\"M0 0h24v24H0V0z\" fill=\"none\"/>\n",
              "    <path d=\"M18.56 5.44l.94 2.06.94-2.06 2.06-.94-2.06-.94-.94-2.06-.94 2.06-2.06.94zm-11 1L8.5 8.5l.94-2.06 2.06-.94-2.06-.94L8.5 2.5l-.94 2.06-2.06.94zm10 10l.94 2.06.94-2.06 2.06-.94-2.06-.94-.94-2.06-.94 2.06-2.06.94z\"/><path d=\"M17.41 7.96l-1.37-1.37c-.4-.4-.92-.59-1.43-.59-.52 0-1.04.2-1.43.59L10.3 9.45l-7.72 7.72c-.78.78-.78 2.05 0 2.83L4 21.41c.39.39.9.59 1.41.59.51 0 1.02-.2 1.41-.59l7.78-7.78 2.81-2.81c.8-.78.8-2.07 0-2.86zM5.41 20L4 18.59l7.72-7.72 1.47 1.35L5.41 20z\"/>\n",
              "  </svg>\n",
              "      </button>\n",
              "      \n",
              "  <style>\n",
              "    .colab-df-container {\n",
              "      display:flex;\n",
              "      flex-wrap:wrap;\n",
              "      gap: 12px;\n",
              "    }\n",
              "\n",
              "    .colab-df-convert {\n",
              "      background-color: #E8F0FE;\n",
              "      border: none;\n",
              "      border-radius: 50%;\n",
              "      cursor: pointer;\n",
              "      display: none;\n",
              "      fill: #1967D2;\n",
              "      height: 32px;\n",
              "      padding: 0 0 0 0;\n",
              "      width: 32px;\n",
              "    }\n",
              "\n",
              "    .colab-df-convert:hover {\n",
              "      background-color: #E2EBFA;\n",
              "      box-shadow: 0px 1px 2px rgba(60, 64, 67, 0.3), 0px 1px 3px 1px rgba(60, 64, 67, 0.15);\n",
              "      fill: #174EA6;\n",
              "    }\n",
              "\n",
              "    [theme=dark] .colab-df-convert {\n",
              "      background-color: #3B4455;\n",
              "      fill: #D2E3FC;\n",
              "    }\n",
              "\n",
              "    [theme=dark] .colab-df-convert:hover {\n",
              "      background-color: #434B5C;\n",
              "      box-shadow: 0px 1px 3px 1px rgba(0, 0, 0, 0.15);\n",
              "      filter: drop-shadow(0px 1px 2px rgba(0, 0, 0, 0.3));\n",
              "      fill: #FFFFFF;\n",
              "    }\n",
              "  </style>\n",
              "\n",
              "      <script>\n",
              "        const buttonEl =\n",
              "          document.querySelector('#df-bde86262-d256-44bf-bacf-5f0303c3f302 button.colab-df-convert');\n",
              "        buttonEl.style.display =\n",
              "          google.colab.kernel.accessAllowed ? 'block' : 'none';\n",
              "\n",
              "        async function convertToInteractive(key) {\n",
              "          const element = document.querySelector('#df-bde86262-d256-44bf-bacf-5f0303c3f302');\n",
              "          const dataTable =\n",
              "            await google.colab.kernel.invokeFunction('convertToInteractive',\n",
              "                                                     [key], {});\n",
              "          if (!dataTable) return;\n",
              "\n",
              "          const docLinkHtml = 'Like what you see? Visit the ' +\n",
              "            '<a target=\"_blank\" href=https://colab.research.google.com/notebooks/data_table.ipynb>data table notebook</a>'\n",
              "            + ' to learn more about interactive tables.';\n",
              "          element.innerHTML = '';\n",
              "          dataTable['output_type'] = 'display_data';\n",
              "          await google.colab.output.renderOutput(dataTable, element);\n",
              "          const docLink = document.createElement('div');\n",
              "          docLink.innerHTML = docLinkHtml;\n",
              "          element.appendChild(docLink);\n",
              "        }\n",
              "      </script>\n",
              "    </div>\n",
              "  </div>\n",
              "  "
            ]
          },
          "metadata": {},
          "execution_count": 9
        }
      ]
    },
    {
      "cell_type": "code",
      "source": [
        "kickstart.pledged.describe()"
      ],
      "metadata": {
        "colab": {
          "base_uri": "https://localhost:8080/"
        },
        "id": "avVrQtsMxLW0",
        "outputId": "ebdedb3b-b4ff-429c-d1d9-57d276eb6c4d"
      },
      "execution_count": 10,
      "outputs": [
        {
          "output_type": "execute_result",
          "data": {
            "text/plain": [
              "count    1.915850e+05\n",
              "mean     1.180005e+04\n",
              "std      1.154681e+05\n",
              "min      0.000000e+00\n",
              "25%      1.300000e+01\n",
              "50%      4.070000e+02\n",
              "75%      3.823000e+03\n",
              "max      2.033899e+07\n",
              "Name: pledged, dtype: float64"
            ]
          },
          "metadata": {},
          "execution_count": 10
        }
      ]
    },
    {
      "cell_type": "code",
      "source": [
        "kickstart.state.describe()"
      ],
      "metadata": {
        "colab": {
          "base_uri": "https://localhost:8080/"
        },
        "id": "CTm-UBKU4H9V",
        "outputId": "9a44d8be-d841-456f-ffc2-0f331e320df4"
      },
      "execution_count": 11,
      "outputs": [
        {
          "output_type": "execute_result",
          "data": {
            "text/plain": [
              "count     191585\n",
              "unique         6\n",
              "top       failed\n",
              "freq      102667\n",
              "Name: state, dtype: object"
            ]
          },
          "metadata": {},
          "execution_count": 11
        }
      ]
    },
    {
      "cell_type": "code",
      "source": [
        "from sklearn.preprocessing import OrdinalEncoder\n",
        "ord_enc= OrdinalEncoder()\n",
        "state_code= ord_enc.fit_transform(kickstart[['state']])"
      ],
      "metadata": {
        "id": "92sFo6l2zu5J"
      },
      "execution_count": 12,
      "outputs": []
    },
    {
      "cell_type": "code",
      "source": [
        "state_code.mean()"
      ],
      "metadata": {
        "colab": {
          "base_uri": "https://localhost:8080/"
        },
        "id": "ju9Wnqoi4lDa",
        "outputId": "a0d88b3b-28a6-4c88-bcc7-345ba3174c53"
      },
      "execution_count": 13,
      "outputs": [
        {
          "output_type": "execute_result",
          "data": {
            "text/plain": [
              "1.6008873346034398"
            ]
          },
          "metadata": {},
          "execution_count": 13
        }
      ]
    },
    {
      "cell_type": "code",
      "source": [
        "state_code.max()"
      ],
      "metadata": {
        "colab": {
          "base_uri": "https://localhost:8080/"
        },
        "id": "cW7ie2Ti5O30",
        "outputId": "0f06cc21-801f-49d9-be8f-3218f12aba6c"
      },
      "execution_count": 14,
      "outputs": [
        {
          "output_type": "execute_result",
          "data": {
            "text/plain": [
              "5.0"
            ]
          },
          "metadata": {},
          "execution_count": 14
        }
      ]
    },
    {
      "cell_type": "code",
      "source": [
        "state_code.min()"
      ],
      "metadata": {
        "colab": {
          "base_uri": "https://localhost:8080/"
        },
        "id": "kPaczEov5ZCh",
        "outputId": "25d55634-bcc9-4a0c-c86b-009c163867a6"
      },
      "execution_count": 15,
      "outputs": [
        {
          "output_type": "execute_result",
          "data": {
            "text/plain": [
              "0.0"
            ]
          },
          "metadata": {},
          "execution_count": 15
        }
      ]
    },
    {
      "cell_type": "code",
      "source": [
        "state_code.repeat(1)"
      ],
      "metadata": {
        "colab": {
          "base_uri": "https://localhost:8080/"
        },
        "id": "1388r1jX5caf",
        "outputId": "c729bf94-b163-43aa-8d60-33d864e8d301"
      },
      "execution_count": 16,
      "outputs": [
        {
          "output_type": "execute_result",
          "data": {
            "text/plain": [
              "array([1., 3., 0., ..., 2., 2., 2.])"
            ]
          },
          "metadata": {},
          "execution_count": 16
        }
      ]
    },
    {
      "cell_type": "code",
      "source": [
        "kickstart.main_category.describe()"
      ],
      "metadata": {
        "colab": {
          "base_uri": "https://localhost:8080/"
        },
        "id": "vs8gwFrdxAFY",
        "outputId": "26fadb11-b3fd-4fd3-adf6-0a76570224b6"
      },
      "execution_count": 17,
      "outputs": [
        {
          "output_type": "execute_result",
          "data": {
            "text/plain": [
              "count         191585\n",
              "unique            15\n",
              "top       Technology\n",
              "freq           23421\n",
              "Name: main_category, dtype: object"
            ]
          },
          "metadata": {},
          "execution_count": 17
        }
      ]
    },
    {
      "cell_type": "code",
      "source": [
        "kickstart.groupby(['pledged'])"
      ],
      "metadata": {
        "colab": {
          "base_uri": "https://localhost:8080/"
        },
        "id": "xA1lj1EKOMO-",
        "outputId": "6de3aaa3-ee47-42d1-81e1-bc8cd395b9f1"
      },
      "execution_count": 18,
      "outputs": [
        {
          "output_type": "execute_result",
          "data": {
            "text/plain": [
              "<pandas.core.groupby.generic.DataFrameGroupBy object at 0x7ff4160486d0>"
            ]
          },
          "metadata": {},
          "execution_count": 18
        }
      ]
    },
    {
      "cell_type": "code",
      "source": [
        "#Cannot get boxplot for Class Attribute because it is categorial, selected pledged for boxplot\n",
        "kickstart.boxplot(['pledged'])"
      ],
      "metadata": {
        "colab": {
          "base_uri": "https://localhost:8080/",
          "height": 293
        },
        "id": "yd2d6ZjeRDbm",
        "outputId": "401df9d7-3cc0-495a-f6f3-76ec7ebfb8e0"
      },
      "execution_count": 19,
      "outputs": [
        {
          "output_type": "execute_result",
          "data": {
            "text/plain": [
              "<matplotlib.axes._subplots.AxesSubplot at 0x7ff4076ec590>"
            ]
          },
          "metadata": {},
          "execution_count": 19
        },
        {
          "output_type": "display_data",
          "data": {
            "text/plain": [
              "<Figure size 432x288 with 1 Axes>"
            ],
            "image/png": "[encoded data removed]"
          },
          "metadata": {
            "needs_background": "light"
          }
        }
      ]
    },
    {
      "cell_type": "code",
      "source": [
        "from scipy.spatial import distance"
      ],
      "metadata": {
        "id": "GmwOSHZ6yhPc"
      },
      "execution_count": 20,
      "outputs": []
    },
    {
      "cell_type": "code",
      "source": [
        "a = kickstart.goal\n",
        "b= kickstart.pledged"
      ],
      "metadata": {
        "id": "7XMhf0quywfv"
      },
      "execution_count": 21,
      "outputs": []
    },
    {
      "cell_type": "code",
      "source": [
        "kickstart.pledged.describe()"
      ],
      "metadata": {
        "colab": {
          "base_uri": "https://localhost:8080/"
        },
        "id": "5GFWDzUnS-Sf",
        "outputId": "e878eede-6f3e-459b-8ec2-f81ea30edc98"
      },
      "execution_count": 22,
      "outputs": [
        {
          "output_type": "execute_result",
          "data": {
            "text/plain": [
              "count    1.915850e+05\n",
              "mean     1.180005e+04\n",
              "std      1.154681e+05\n",
              "min      0.000000e+00\n",
              "25%      1.300000e+01\n",
              "50%      4.070000e+02\n",
              "75%      3.823000e+03\n",
              "max      2.033899e+07\n",
              "Name: pledged, dtype: float64"
            ]
          },
          "metadata": {},
          "execution_count": 22
        }
      ]
    },
    {
      "cell_type": "code",
      "source": [
        "#First numeric attribute\n",
        "kickstart.usd_goal_real.describe()"
      ],
      "metadata": {
        "colab": {
          "base_uri": "https://localhost:8080/"
        },
        "id": "9UwRKO9-7CxC",
        "outputId": "1c6e383a-53da-4d07-fdc7-3fc4cf058ef9"
      },
      "execution_count": 23,
      "outputs": [
        {
          "output_type": "execute_result",
          "data": {
            "text/plain": [
              "count    1.915850e+05\n",
              "mean     6.028766e+04\n",
              "std      1.413783e+06\n",
              "min      4.900000e-01\n",
              "25%      2.000000e+03\n",
              "50%      6.262450e+03\n",
              "75%      2.000000e+04\n",
              "max      1.513959e+08\n",
              "Name: usd_goal_real, dtype: float64"
            ]
          },
          "metadata": {},
          "execution_count": 23
        }
      ]
    },
    {
      "cell_type": "code",
      "source": [
        "#Second numeric attribute\n",
        "kickstart.usd_pledged_real.describe()"
      ],
      "metadata": {
        "colab": {
          "base_uri": "https://localhost:8080/"
        },
        "id": "JdP5Z6ma7I02",
        "outputId": "9ff3a2a2-281f-4bdc-faf8-74c62813469d"
      },
      "execution_count": 24,
      "outputs": [
        {
          "output_type": "execute_result",
          "data": {
            "text/plain": [
              "count    1.915850e+05\n",
              "mean     1.044187e+04\n",
              "std      1.075172e+05\n",
              "min      0.000000e+00\n",
              "25%      1.315000e+01\n",
              "50%      3.929600e+02\n",
              "75%      3.661280e+03\n",
              "max      2.033899e+07\n",
              "Name: usd_pledged_real, dtype: float64"
            ]
          },
          "metadata": {},
          "execution_count": 24
        }
      ]
    },
    {
      "cell_type": "code",
      "source": [
        "kickstart.boxplot(['usd_goal_real','usd_pledged_real'])"
      ],
      "metadata": {
        "colab": {
          "base_uri": "https://localhost:8080/",
          "height": 294
        },
        "id": "m9af5RrVUUFk",
        "outputId": "dcb68b21-da9b-4ed1-ac1f-cb56ac925ec3"
      },
      "execution_count": 25,
      "outputs": [
        {
          "output_type": "execute_result",
          "data": {
            "text/plain": [
              "<matplotlib.axes._subplots.AxesSubplot at 0x7ff4076ec190>"
            ]
          },
          "metadata": {},
          "execution_count": 25
        },
        {
          "output_type": "display_data",
          "data": {
            "text/plain": [
              "<Figure size 432x288 with 1 Axes>"
            ],
            "image/png": "[encoded data removed]"
          },
          "metadata": {
            "needs_background": "light"
          }
        }
      ]
    },
    {
      "cell_type": "code",
      "source": [
        "kickstart.boxplot(['goal','usd_pledged_real'])"
      ],
      "metadata": {
        "colab": {
          "base_uri": "https://localhost:8080/",
          "height": 294
        },
        "id": "G7z99JT8X6DU",
        "outputId": "770a5a04-c80f-49d8-ce2d-a9fab484e940"
      },
      "execution_count": 26,
      "outputs": [
        {
          "output_type": "execute_result",
          "data": {
            "text/plain": [
              "<matplotlib.axes._subplots.AxesSubplot at 0x7ff4063b0490>"
            ]
          },
          "metadata": {},
          "execution_count": 26
        },
        {
          "output_type": "display_data",
          "data": {
            "text/plain": [
              "<Figure size 432x288 with 1 Axes>"
            ],
            "image/png": "[encoded data removed]"
          },
          "metadata": {
            "needs_background": "light"
          }
        }
      ]
    },
    {
      "cell_type": "code",
      "source": [
        "kickstart.boxplot(column='usd_goal_real',by='goal')"
      ],
      "metadata": {
        "colab": {
          "base_uri": "https://localhost:8080/",
          "height": 373
        },
        "id": "aPW1yjKvZitL",
        "outputId": "2fdc6518-19fe-4bf4-e564-1951f611a4a2"
      },
      "execution_count": 27,
      "outputs": [
        {
          "output_type": "stream",
          "name": "stderr",
          "text": [
            "/usr/local/lib/python3.7/dist-packages/matplotlib/cbook/__init__.py:1376: VisibleDeprecationWarning: Creating an ndarray from ragged nested sequences (which is a list-or-tuple of lists-or-tuples-or ndarrays with different lengths or shapes) is deprecated. If you meant to do this, you must specify 'dtype=object' when creating the ndarray.\n",
            "  X = np.atleast_1d(X.T if isinstance(X, np.ndarray) else np.asarray(X))\n"
          ]
        },
        {
          "output_type": "execute_result",
          "data": {
            "text/plain": [
              "<matplotlib.axes._subplots.AxesSubplot at 0x7ff4061bdc90>"
            ]
          },
          "metadata": {},
          "execution_count": 27
        },
        {
          "output_type": "display_data",
          "data": {
            "text/plain": [
              "<Figure size 432x288 with 1 Axes>"
            ],
            "image/png": "[encoded data removed]"
          },
          "metadata": {
            "needs_background": "light"
          }
        }
      ]
    },
    {
      "cell_type": "code",
      "source": [
        "x=kickstart[('goal')]\n",
        "y=kickstart[('usd_goal_real')]"
      ],
      "metadata": {
        "id": "jXeofsiXinm2"
      },
      "execution_count": 28,
      "outputs": []
    },
    {
      "cell_type": "code",
      "source": [
        "plt.scatter(x,y)\n",
        "plt.show"
      ],
      "metadata": {
        "colab": {
          "base_uri": "https://localhost:8080/",
          "height": 306
        },
        "id": "vK-YuE1ijU0o",
        "outputId": "54603d7f-4733-47c1-e942-5e62ebff0a6c"
      },
      "execution_count": 29,
      "outputs": [
        {
          "output_type": "execute_result",
          "data": {
            "text/plain": [
              "<function matplotlib.pyplot.show>"
            ]
          },
          "metadata": {},
          "execution_count": 29
        },
        {
          "output_type": "display_data",
          "data": {
            "text/plain": [
              "<Figure size 432x288 with 1 Axes>"
            ],
            "image/png": "[encoded data removed]"
          },
          "metadata": {
            "needs_background": "light"
          }
        }
      ]
    },
    {
      "cell_type": "code",
      "source": [
        "#Euclidean distance between usd_goal_real and pledged\n",
        "a = kickstart.usd_goal_real\n",
        "b= kickstart.pledged\n",
        "print(distance.euclidean(a,b))"
      ],
      "metadata": {
        "colab": {
          "base_uri": "https://localhost:8080/"
        },
        "id": "SdlT59vl7XPh",
        "outputId": "9210920e-e7f5-48a5-ea7c-66cc8af70751"
      },
      "execution_count": 31,
      "outputs": [
        {
          "output_type": "stream",
          "name": "stdout",
          "text": [
            "621153549.205376\n"
          ]
        }
      ]
    },
    {
      "cell_type": "code",
      "source": [
        "#Euclidean distance between usd_pledged_real and pledged\n",
        "a=kickstart.usd_pledged_real\n",
        "b=kickstart.pledged\n",
        "print(distance.euclidean(a,b))"
      ],
      "metadata": {
        "colab": {
          "base_uri": "https://localhost:8080/"
        },
        "id": "Rop07_az7pVn",
        "outputId": "38cf3c47-10c7-486d-a035-56cccf54f328"
      },
      "execution_count": null,
      "outputs": [
        {
          "output_type": "stream",
          "name": "stdout",
          "text": [
            "17715139.5469276\n"
          ]
        }
      ]
    },
    {
      "cell_type": "code",
      "source": [
        "#For the given kickstarter dataset, the class attribute is \"state\", as it mostly depends on other attributes. \n",
        "#As it is categorial, transformed into numerical and calculated min, max and mean.\n",
        "# The next numeric attribute which can be considered to be class attribute is pledged. \n",
        "#Calculated the Euclidean distance between the pledged and 2 other attributes which reveals the success rate for the projects. \n",
        "#The above analysis can be considered for predicting and co-relating the \"state\" of project with all values interpreting the future trends."
      ],
      "metadata": {
        "id": "o6RXTpXn7hoW"
      },
      "execution_count": null,
      "outputs": []
    }
  ]
}