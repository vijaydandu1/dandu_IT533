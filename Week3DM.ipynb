{
  "nbformat": 4,
  "nbformat_minor": 0,
  "metadata": {
    "colab": {
      "name": "Week3DM.ipynb",
      "provenance": [],
      "collapsed_sections": [],
      "authorship_tag": "ABX9TyNLAuPdLQqtE79rbeRelipn",
      "include_colab_link": true
    },
    "kernelspec": {
      "name": "python3",
      "display_name": "Python 3"
    },
    "language_info": {
      "name": "python"
    }
  },
  "cells": [
    {
      "cell_type": "markdown",
      "metadata": {
        "id": "view-in-github",
        "colab_type": "text"
      },
      "source": [
        "<a href=\"https://colab.research.google.com/github/vijaydandu1/dandu_IT533/blob/main/Week3DM.ipynb\" target=\"_parent\"><img src=\"https://colab.research.google.com/assets/colab-badge.svg\" alt=\"Open In Colab\"/></a>"
      ]
    },
    {
      "cell_type": "code",
      "execution_count": null,
      "metadata": {
        "id": "PP9CPWXItdZY"
      },
      "outputs": [],
      "source": [
        "import numpy as np\n",
        "import pandas as pd \n",
        "import matplotlib.pyplot as plt\n",
        "kickstarter = pd.read_csv(\"https://raw.githubusercontent.com/vijaydandu1/dandu_IT533/main/kickstarter.csv\", encoding =\"ISO-8859-1\")\n",
        "kickstarter.dropna(inplace=True)"
      ]
    },
    {
      "cell_type": "code",
      "source": [
        "k = kickstarter\n",
        "k"
      ],
      "metadata": {
        "colab": {
          "base_uri": "https://localhost:8080/",
          "height": 904
        },
        "id": "yjgyWZ55trHc",
        "outputId": "3bbe6ad5-c40f-4a11-841b-b25daefdfce4"
      },
      "execution_count": null,
      "outputs": [
        {
          "output_type": "execute_result",
          "data": {
            "text/plain": [
              "                ID                                               name  \\\n",
              "0       1008941852                       The return of BABY UNIVERSE!   \n",
              "1       1013503401                                             Potjie   \n",
              "2       1020446396  Stilt City- A Bungalow Artist Space in The Roc...   \n",
              "3       1028008131       A 2D SideScroller RPG Made by YOU (Canceled)   \n",
              "4       1049544313                                       Balteus Belt   \n",
              "...            ...                                                ...   \n",
              "191580    55596200                         Plateforme de statistiques   \n",
              "191581   872683023  The Lewisham Ledger - a new free local communi...   \n",
              "191582  1036415983                                      Aikyam : Onnu   \n",
              "191583  1916988520                          Back in Black Hills Movie   \n",
              "191584    22387366                                       Nerd Collect   \n",
              "\n",
              "           category main_category currency  deadline    goal  \\\n",
              "0         Immersive       Theater      USD  1/1/2015   15000   \n",
              "1             Drama  Film & Video      GBP  1/1/2015    4500   \n",
              "2        Public Art           Art      USD  1/1/2015   60000   \n",
              "3       Video Games         Games      USD  1/1/2015   20000   \n",
              "4           Apparel       Fashion      USD  1/1/2015    8000   \n",
              "...             ...           ...      ...       ...     ...   \n",
              "191580         Apps    Technology      EUR  3/2/2018    9000   \n",
              "191581        Print    Journalism      GBP  3/2/2018    5000   \n",
              "191582        Music         Music      USD  3/3/2018   10000   \n",
              "191583        Drama  Film & Video      USD  3/3/2018    5500   \n",
              "191584         Apps    Technology      GBP  3/3/2018  150000   \n",
              "\n",
              "                launched   pledged       state  backers country  usd pledged  \\\n",
              "0        12/4/2014 21:37  11880.18      failed       46      US     11880.18   \n",
              "1        12/2/2014 18:10   4843.00  successful       67      GB      7560.32   \n",
              "2       11/19/2014 23:14  18087.00    canceled      204      US     18087.00   \n",
              "3        12/2/2014 22:02      9.00    canceled        2      US         9.00   \n",
              "4       11/18/2014 21:17   1563.00      failed       16      US      1563.00   \n",
              "...                  ...       ...         ...      ...     ...          ...   \n",
              "191580    1/1/2018 15:40      0.00        live        0      FR         0.00   \n",
              "191581    1/1/2018 21:20    350.00        live        7      GB       364.86   \n",
              "191582     1/2/2018 8:11    174.00        live        3      US       174.00   \n",
              "191583     1/2/2018 1:16      0.00        live        0      US         0.00   \n",
              "191584     1/2/2018 3:26      0.00        live        0      GB         0.00   \n",
              "\n",
              "        usd_pledged_real  usd_goal_real  \n",
              "0               11880.18       15000.00  \n",
              "1                7477.46        6947.88  \n",
              "2               18087.00       60000.00  \n",
              "3                   9.00       20000.00  \n",
              "4                1563.00        8000.00  \n",
              "...                  ...            ...  \n",
              "191580              0.00       10923.26  \n",
              "191581            477.39        6819.89  \n",
              "191582            174.00       10000.00  \n",
              "191583              0.00        5500.00  \n",
              "191584              0.00      204596.60  \n",
              "\n",
              "[188445 rows x 15 columns]"
            ],
            "text/html": [
              "\n",
              "  <div id=\"df-72daee81-c4a1-4c2b-be0b-3509bf418afe\">\n",
              "    <div class=\"colab-df-container\">\n",
              "      <div>\n",
              "<style scoped>\n",
              "    .dataframe tbody tr th:only-of-type {\n",
              "        vertical-align: middle;\n",
              "    }\n",
              "\n",
              "    .dataframe tbody tr th {\n",
              "        vertical-align: top;\n",
              "    }\n",
              "\n",
              "    .dataframe thead th {\n",
              "        text-align: right;\n",
              "    }\n",
              "</style>\n",
              "<table border=\"1\" class=\"dataframe\">\n",
              "  <thead>\n",
              "    <tr style=\"text-align: right;\">\n",
              "      <th></th>\n",
              "      <th>ID</th>\n",
              "      <th>name</th>\n",
              "      <th>category</th>\n",
              "      <th>main_category</th>\n",
              "      <th>currency</th>\n",
              "      <th>deadline</th>\n",
              "      <th>goal</th>\n",
              "      <th>launched</th>\n",
              "      <th>pledged</th>\n",
              "      <th>state</th>\n",
              "      <th>backers</th>\n",
              "      <th>country</th>\n",
              "      <th>usd pledged</th>\n",
              "      <th>usd_pledged_real</th>\n",
              "      <th>usd_goal_real</th>\n",
              "    </tr>\n",
              "  </thead>\n",
              "  <tbody>\n",
              "    <tr>\n",
              "      <th>0</th>\n",
              "      <td>1008941852</td>\n",
              "      <td>The return of BABY UNIVERSE!</td>\n",
              "      <td>Immersive</td>\n",
              "      <td>Theater</td>\n",
              "      <td>USD</td>\n",
              "      <td>1/1/2015</td>\n",
              "      <td>15000</td>\n",
              "      <td>12/4/2014 21:37</td>\n",
              "      <td>11880.18</td>\n",
              "      <td>failed</td>\n",
              "      <td>46</td>\n",
              "      <td>US</td>\n",
              "      <td>11880.18</td>\n",
              "      <td>11880.18</td>\n",
              "      <td>15000.00</td>\n",
              "    </tr>\n",
              "    <tr>\n",
              "      <th>1</th>\n",
              "      <td>1013503401</td>\n",
              "      <td>Potjie</td>\n",
              "      <td>Drama</td>\n",
              "      <td>Film &amp; Video</td>\n",
              "      <td>GBP</td>\n",
              "      <td>1/1/2015</td>\n",
              "      <td>4500</td>\n",
              "      <td>12/2/2014 18:10</td>\n",
              "      <td>4843.00</td>\n",
              "      <td>successful</td>\n",
              "      <td>67</td>\n",
              "      <td>GB</td>\n",
              "      <td>7560.32</td>\n",
              "      <td>7477.46</td>\n",
              "      <td>6947.88</td>\n",
              "    </tr>\n",
              "    <tr>\n",
              "      <th>2</th>\n",
              "      <td>1020446396</td>\n",
              "      <td>Stilt City- A Bungalow Artist Space in The Roc...</td>\n",
              "      <td>Public Art</td>\n",
              "      <td>Art</td>\n",
              "      <td>USD</td>\n",
              "      <td>1/1/2015</td>\n",
              "      <td>60000</td>\n",
              "      <td>11/19/2014 23:14</td>\n",
              "      <td>18087.00</td>\n",
              "      <td>canceled</td>\n",
              "      <td>204</td>\n",
              "      <td>US</td>\n",
              "      <td>18087.00</td>\n",
              "      <td>18087.00</td>\n",
              "      <td>60000.00</td>\n",
              "    </tr>\n",
              "    <tr>\n",
              "      <th>3</th>\n",
              "      <td>1028008131</td>\n",
              "      <td>A 2D SideScroller RPG Made by YOU (Canceled)</td>\n",
              "      <td>Video Games</td>\n",
              "      <td>Games</td>\n",
              "      <td>USD</td>\n",
              "      <td>1/1/2015</td>\n",
              "      <td>20000</td>\n",
              "      <td>12/2/2014 22:02</td>\n",
              "      <td>9.00</td>\n",
              "      <td>canceled</td>\n",
              "      <td>2</td>\n",
              "      <td>US</td>\n",
              "      <td>9.00</td>\n",
              "      <td>9.00</td>\n",
              "      <td>20000.00</td>\n",
              "    </tr>\n",
              "    <tr>\n",
              "      <th>4</th>\n",
              "      <td>1049544313</td>\n",
              "      <td>Balteus Belt</td>\n",
              "      <td>Apparel</td>\n",
              "      <td>Fashion</td>\n",
              "      <td>USD</td>\n",
              "      <td>1/1/2015</td>\n",
              "      <td>8000</td>\n",
              "      <td>11/18/2014 21:17</td>\n",
              "      <td>1563.00</td>\n",
              "      <td>failed</td>\n",
              "      <td>16</td>\n",
              "      <td>US</td>\n",
              "      <td>1563.00</td>\n",
              "      <td>1563.00</td>\n",
              "      <td>8000.00</td>\n",
              "    </tr>\n",
              "    <tr>\n",
              "      <th>...</th>\n",
              "      <td>...</td>\n",
              "      <td>...</td>\n",
              "      <td>...</td>\n",
              "      <td>...</td>\n",
              "      <td>...</td>\n",
              "      <td>...</td>\n",
              "      <td>...</td>\n",
              "      <td>...</td>\n",
              "      <td>...</td>\n",
              "      <td>...</td>\n",
              "      <td>...</td>\n",
              "      <td>...</td>\n",
              "      <td>...</td>\n",
              "      <td>...</td>\n",
              "      <td>...</td>\n",
              "    </tr>\n",
              "    <tr>\n",
              "      <th>191580</th>\n",
              "      <td>55596200</td>\n",
              "      <td>Plateforme de statistiques</td>\n",
              "      <td>Apps</td>\n",
              "      <td>Technology</td>\n",
              "      <td>EUR</td>\n",
              "      <td>3/2/2018</td>\n",
              "      <td>9000</td>\n",
              "      <td>1/1/2018 15:40</td>\n",
              "      <td>0.00</td>\n",
              "      <td>live</td>\n",
              "      <td>0</td>\n",
              "      <td>FR</td>\n",
              "      <td>0.00</td>\n",
              "      <td>0.00</td>\n",
              "      <td>10923.26</td>\n",
              "    </tr>\n",
              "    <tr>\n",
              "      <th>191581</th>\n",
              "      <td>872683023</td>\n",
              "      <td>The Lewisham Ledger - a new free local communi...</td>\n",
              "      <td>Print</td>\n",
              "      <td>Journalism</td>\n",
              "      <td>GBP</td>\n",
              "      <td>3/2/2018</td>\n",
              "      <td>5000</td>\n",
              "      <td>1/1/2018 21:20</td>\n",
              "      <td>350.00</td>\n",
              "      <td>live</td>\n",
              "      <td>7</td>\n",
              "      <td>GB</td>\n",
              "      <td>364.86</td>\n",
              "      <td>477.39</td>\n",
              "      <td>6819.89</td>\n",
              "    </tr>\n",
              "    <tr>\n",
              "      <th>191582</th>\n",
              "      <td>1036415983</td>\n",
              "      <td>Aikyam : Onnu</td>\n",
              "      <td>Music</td>\n",
              "      <td>Music</td>\n",
              "      <td>USD</td>\n",
              "      <td>3/3/2018</td>\n",
              "      <td>10000</td>\n",
              "      <td>1/2/2018 8:11</td>\n",
              "      <td>174.00</td>\n",
              "      <td>live</td>\n",
              "      <td>3</td>\n",
              "      <td>US</td>\n",
              "      <td>174.00</td>\n",
              "      <td>174.00</td>\n",
              "      <td>10000.00</td>\n",
              "    </tr>\n",
              "    <tr>\n",
              "      <th>191583</th>\n",
              "      <td>1916988520</td>\n",
              "      <td>Back in Black Hills Movie</td>\n",
              "      <td>Drama</td>\n",
              "      <td>Film &amp; Video</td>\n",
              "      <td>USD</td>\n",
              "      <td>3/3/2018</td>\n",
              "      <td>5500</td>\n",
              "      <td>1/2/2018 1:16</td>\n",
              "      <td>0.00</td>\n",
              "      <td>live</td>\n",
              "      <td>0</td>\n",
              "      <td>US</td>\n",
              "      <td>0.00</td>\n",
              "      <td>0.00</td>\n",
              "      <td>5500.00</td>\n",
              "    </tr>\n",
              "    <tr>\n",
              "      <th>191584</th>\n",
              "      <td>22387366</td>\n",
              "      <td>Nerd Collect</td>\n",
              "      <td>Apps</td>\n",
              "      <td>Technology</td>\n",
              "      <td>GBP</td>\n",
              "      <td>3/3/2018</td>\n",
              "      <td>150000</td>\n",
              "      <td>1/2/2018 3:26</td>\n",
              "      <td>0.00</td>\n",
              "      <td>live</td>\n",
              "      <td>0</td>\n",
              "      <td>GB</td>\n",
              "      <td>0.00</td>\n",
              "      <td>0.00</td>\n",
              "      <td>204596.60</td>\n",
              "    </tr>\n",
              "  </tbody>\n",
              "</table>\n",
              "<p>188445 rows × 15 columns</p>\n",
              "</div>\n",
              "      <button class=\"colab-df-convert\" onclick=\"convertToInteractive('df-72daee81-c4a1-4c2b-be0b-3509bf418afe')\"\n",
              "              title=\"Convert this dataframe to an interactive table.\"\n",
              "              style=\"display:none;\">\n",
              "        \n",
              "  <svg xmlns=\"http://www.w3.org/2000/svg\" height=\"24px\"viewBox=\"0 0 24 24\"\n",
              "       width=\"24px\">\n",
              "    <path d=\"M0 0h24v24H0V0z\" fill=\"none\"/>\n",
              "    <path d=\"M18.56 5.44l.94 2.06.94-2.06 2.06-.94-2.06-.94-.94-2.06-.94 2.06-2.06.94zm-11 1L8.5 8.5l.94-2.06 2.06-.94-2.06-.94L8.5 2.5l-.94 2.06-2.06.94zm10 10l.94 2.06.94-2.06 2.06-.94-2.06-.94-.94-2.06-.94 2.06-2.06.94z\"/><path d=\"M17.41 7.96l-1.37-1.37c-.4-.4-.92-.59-1.43-.59-.52 0-1.04.2-1.43.59L10.3 9.45l-7.72 7.72c-.78.78-.78 2.05 0 2.83L4 21.41c.39.39.9.59 1.41.59.51 0 1.02-.2 1.41-.59l7.78-7.78 2.81-2.81c.8-.78.8-2.07 0-2.86zM5.41 20L4 18.59l7.72-7.72 1.47 1.35L5.41 20z\"/>\n",
              "  </svg>\n",
              "      </button>\n",
              "      \n",
              "  <style>\n",
              "    .colab-df-container {\n",
              "      display:flex;\n",
              "      flex-wrap:wrap;\n",
              "      gap: 12px;\n",
              "    }\n",
              "\n",
              "    .colab-df-convert {\n",
              "      background-color: #E8F0FE;\n",
              "      border: none;\n",
              "      border-radius: 50%;\n",
              "      cursor: pointer;\n",
              "      display: none;\n",
              "      fill: #1967D2;\n",
              "      height: 32px;\n",
              "      padding: 0 0 0 0;\n",
              "      width: 32px;\n",
              "    }\n",
              "\n",
              "    .colab-df-convert:hover {\n",
              "      background-color: #E2EBFA;\n",
              "      box-shadow: 0px 1px 2px rgba(60, 64, 67, 0.3), 0px 1px 3px 1px rgba(60, 64, 67, 0.15);\n",
              "      fill: #174EA6;\n",
              "    }\n",
              "\n",
              "    [theme=dark] .colab-df-convert {\n",
              "      background-color: #3B4455;\n",
              "      fill: #D2E3FC;\n",
              "    }\n",
              "\n",
              "    [theme=dark] .colab-df-convert:hover {\n",
              "      background-color: #434B5C;\n",
              "      box-shadow: 0px 1px 3px 1px rgba(0, 0, 0, 0.15);\n",
              "      filter: drop-shadow(0px 1px 2px rgba(0, 0, 0, 0.3));\n",
              "      fill: #FFFFFF;\n",
              "    }\n",
              "  </style>\n",
              "\n",
              "      <script>\n",
              "        const buttonEl =\n",
              "          document.querySelector('#df-72daee81-c4a1-4c2b-be0b-3509bf418afe button.colab-df-convert');\n",
              "        buttonEl.style.display =\n",
              "          google.colab.kernel.accessAllowed ? 'block' : 'none';\n",
              "\n",
              "        async function convertToInteractive(key) {\n",
              "          const element = document.querySelector('#df-72daee81-c4a1-4c2b-be0b-3509bf418afe');\n",
              "          const dataTable =\n",
              "            await google.colab.kernel.invokeFunction('convertToInteractive',\n",
              "                                                     [key], {});\n",
              "          if (!dataTable) return;\n",
              "\n",
              "          const docLinkHtml = 'Like what you see? Visit the ' +\n",
              "            '<a target=\"_blank\" href=https://colab.research.google.com/notebooks/data_table.ipynb>data table notebook</a>'\n",
              "            + ' to learn more about interactive tables.';\n",
              "          element.innerHTML = '';\n",
              "          dataTable['output_type'] = 'display_data';\n",
              "          await google.colab.output.renderOutput(dataTable, element);\n",
              "          const docLink = document.createElement('div');\n",
              "          docLink.innerHTML = docLinkHtml;\n",
              "          element.appendChild(docLink);\n",
              "        }\n",
              "      </script>\n",
              "    </div>\n",
              "  </div>\n",
              "  "
            ]
          },
          "metadata": {},
          "execution_count": 2
        }
      ]
    },
    {
      "cell_type": "markdown",
      "source": [
        "1. Data Transformation: Pick three variables whose data types may be more useful as another data type and utransform them to numeric or character/ categorical format. Then, insert a text section into your notebook and explain in no less than 3 sentences what this transformation will allow you to accomplish analytically later on."
      ],
      "metadata": {
        "id": "dFeeInmGtucX"
      }
    },
    {
      "cell_type": "code",
      "source": [
        "#First Variable: state\n",
        "\n",
        "k=kickstarter\n",
        "k['state_num'] = k.state\n",
        "k['state_num']= k['state_num'].astype('category')\n",
        "k['state_num']= k['state_num'].cat.codes\n",
        "k.dtypes[['state','state_num']]"
      ],
      "metadata": {
        "colab": {
          "base_uri": "https://localhost:8080/"
        },
        "id": "jnhdIO02txTN",
        "outputId": "02cda09e-8c60-4b01-9e99-8bf74c9de498"
      },
      "execution_count": null,
      "outputs": [
        {
          "output_type": "execute_result",
          "data": {
            "text/plain": [
              "state        object\n",
              "state_num      int8\n",
              "dtype: object"
            ]
          },
          "metadata": {},
          "execution_count": 3
        }
      ]
    },
    {
      "cell_type": "code",
      "source": [
        "# First, we back the dataframe up.\n",
        "k=kickstarter\n",
        "\n",
        "# Now we build the column and copy the original values into it\n",
        "k['category_num'] = k.category\n",
        "\n",
        "# Third, we convert category_num into categorical\n",
        "k['category_num']= k['category_num'].astype('category')\n",
        "\n",
        "# Then, we replace the strings with the category indices\n",
        "k['category_num']= k['category_num'].cat.codes\n",
        "\n",
        "# Now, we check the data types\n",
        "k.dtypes[['category','category_num']]\n"
      ],
      "metadata": {
        "colab": {
          "base_uri": "https://localhost:8080/"
        },
        "id": "PdniJak-t1kM",
        "outputId": "1c17d0d3-1d4b-439c-aea7-1b313b625fdd"
      },
      "execution_count": null,
      "outputs": [
        {
          "output_type": "execute_result",
          "data": {
            "text/plain": [
              "category        object\n",
              "category_num     int16\n",
              "dtype: object"
            ]
          },
          "metadata": {},
          "execution_count": 10
        }
      ]
    },
    {
      "cell_type": "code",
      "source": [
        "# Third Variable: pledged\n",
        "\n",
        "k=kickstarter\n",
        "k['pledged_int'] = k.pledged\n",
        "k['pledged_int']= k['pledged_int'].astype('int32')\n",
        "k.dtypes[['pledged','pledged_int']]"
      ],
      "metadata": {
        "colab": {
          "base_uri": "https://localhost:8080/"
        },
        "id": "ju0qyGW4uKAL",
        "outputId": "1b578483-ffd5-410e-9195-a7866ea7832c"
      },
      "execution_count": null,
      "outputs": [
        {
          "output_type": "execute_result",
          "data": {
            "text/plain": [
              "pledged        float64\n",
              "pledged_int      int32\n",
              "dtype: object"
            ]
          },
          "metadata": {},
          "execution_count": 7
        }
      ]
    },
    {
      "cell_type": "code",
      "source": [
        "k.head()"
      ],
      "metadata": {
        "colab": {
          "base_uri": "https://localhost:8080/",
          "height": 496
        },
        "id": "WiXm1_v3ujxS",
        "outputId": "1da48938-ad2c-4974-b0e7-f6fa5c72eb7c"
      },
      "execution_count": null,
      "outputs": [
        {
          "output_type": "execute_result",
          "data": {
            "text/plain": [
              "           ID                                               name     category  \\\n",
              "0  1008941852                       The return of BABY UNIVERSE!    Immersive   \n",
              "1  1013503401                                             Potjie        Drama   \n",
              "2  1020446396  Stilt City- A Bungalow Artist Space in The Roc...   Public Art   \n",
              "3  1028008131       A 2D SideScroller RPG Made by YOU (Canceled)  Video Games   \n",
              "4  1049544313                                       Balteus Belt      Apparel   \n",
              "\n",
              "  main_category currency  deadline   goal          launched   pledged  \\\n",
              "0       Theater      USD  1/1/2015  15000   12/4/2014 21:37  11880.18   \n",
              "1  Film & Video      GBP  1/1/2015   4500   12/2/2014 18:10   4843.00   \n",
              "2           Art      USD  1/1/2015  60000  11/19/2014 23:14  18087.00   \n",
              "3         Games      USD  1/1/2015  20000   12/2/2014 22:02      9.00   \n",
              "4       Fashion      USD  1/1/2015   8000  11/18/2014 21:17   1563.00   \n",
              "\n",
              "        state  backers country  usd pledged  usd_pledged_real  usd_goal_real  \\\n",
              "0      failed       46      US     11880.18          11880.18       15000.00   \n",
              "1  successful       67      GB      7560.32           7477.46        6947.88   \n",
              "2    canceled      204      US     18087.00          18087.00       60000.00   \n",
              "3    canceled        2      US         9.00              9.00       20000.00   \n",
              "4      failed       16      US      1563.00           1563.00        8000.00   \n",
              "\n",
              "   state_num  pledged_int  category_num  \n",
              "0          1        11880            71  \n",
              "1          3         4843            40  \n",
              "2          0        18087           114  \n",
              "3          0            9           148  \n",
              "4          1         1563             7  "
            ],
            "text/html": [
              "\n",
              "  <div id=\"df-f7964ed9-8add-45a2-a99a-1e3d1a5aa8da\">\n",
              "    <div class=\"colab-df-container\">\n",
              "      <div>\n",
              "<style scoped>\n",
              "    .dataframe tbody tr th:only-of-type {\n",
              "        vertical-align: middle;\n",
              "    }\n",
              "\n",
              "    .dataframe tbody tr th {\n",
              "        vertical-align: top;\n",
              "    }\n",
              "\n",
              "    .dataframe thead th {\n",
              "        text-align: right;\n",
              "    }\n",
              "</style>\n",
              "<table border=\"1\" class=\"dataframe\">\n",
              "  <thead>\n",
              "    <tr style=\"text-align: right;\">\n",
              "      <th></th>\n",
              "      <th>ID</th>\n",
              "      <th>name</th>\n",
              "      <th>category</th>\n",
              "      <th>main_category</th>\n",
              "      <th>currency</th>\n",
              "      <th>deadline</th>\n",
              "      <th>goal</th>\n",
              "      <th>launched</th>\n",
              "      <th>pledged</th>\n",
              "      <th>state</th>\n",
              "      <th>backers</th>\n",
              "      <th>country</th>\n",
              "      <th>usd pledged</th>\n",
              "      <th>usd_pledged_real</th>\n",
              "      <th>usd_goal_real</th>\n",
              "      <th>state_num</th>\n",
              "      <th>pledged_int</th>\n",
              "      <th>category_num</th>\n",
              "    </tr>\n",
              "  </thead>\n",
              "  <tbody>\n",
              "    <tr>\n",
              "      <th>0</th>\n",
              "      <td>1008941852</td>\n",
              "      <td>The return of BABY UNIVERSE!</td>\n",
              "      <td>Immersive</td>\n",
              "      <td>Theater</td>\n",
              "      <td>USD</td>\n",
              "      <td>1/1/2015</td>\n",
              "      <td>15000</td>\n",
              "      <td>12/4/2014 21:37</td>\n",
              "      <td>11880.18</td>\n",
              "      <td>failed</td>\n",
              "      <td>46</td>\n",
              "      <td>US</td>\n",
              "      <td>11880.18</td>\n",
              "      <td>11880.18</td>\n",
              "      <td>15000.00</td>\n",
              "      <td>1</td>\n",
              "      <td>11880</td>\n",
              "      <td>71</td>\n",
              "    </tr>\n",
              "    <tr>\n",
              "      <th>1</th>\n",
              "      <td>1013503401</td>\n",
              "      <td>Potjie</td>\n",
              "      <td>Drama</td>\n",
              "      <td>Film &amp; Video</td>\n",
              "      <td>GBP</td>\n",
              "      <td>1/1/2015</td>\n",
              "      <td>4500</td>\n",
              "      <td>12/2/2014 18:10</td>\n",
              "      <td>4843.00</td>\n",
              "      <td>successful</td>\n",
              "      <td>67</td>\n",
              "      <td>GB</td>\n",
              "      <td>7560.32</td>\n",
              "      <td>7477.46</td>\n",
              "      <td>6947.88</td>\n",
              "      <td>3</td>\n",
              "      <td>4843</td>\n",
              "      <td>40</td>\n",
              "    </tr>\n",
              "    <tr>\n",
              "      <th>2</th>\n",
              "      <td>1020446396</td>\n",
              "      <td>Stilt City- A Bungalow Artist Space in The Roc...</td>\n",
              "      <td>Public Art</td>\n",
              "      <td>Art</td>\n",
              "      <td>USD</td>\n",
              "      <td>1/1/2015</td>\n",
              "      <td>60000</td>\n",
              "      <td>11/19/2014 23:14</td>\n",
              "      <td>18087.00</td>\n",
              "      <td>canceled</td>\n",
              "      <td>204</td>\n",
              "      <td>US</td>\n",
              "      <td>18087.00</td>\n",
              "      <td>18087.00</td>\n",
              "      <td>60000.00</td>\n",
              "      <td>0</td>\n",
              "      <td>18087</td>\n",
              "      <td>114</td>\n",
              "    </tr>\n",
              "    <tr>\n",
              "      <th>3</th>\n",
              "      <td>1028008131</td>\n",
              "      <td>A 2D SideScroller RPG Made by YOU (Canceled)</td>\n",
              "      <td>Video Games</td>\n",
              "      <td>Games</td>\n",
              "      <td>USD</td>\n",
              "      <td>1/1/2015</td>\n",
              "      <td>20000</td>\n",
              "      <td>12/2/2014 22:02</td>\n",
              "      <td>9.00</td>\n",
              "      <td>canceled</td>\n",
              "      <td>2</td>\n",
              "      <td>US</td>\n",
              "      <td>9.00</td>\n",
              "      <td>9.00</td>\n",
              "      <td>20000.00</td>\n",
              "      <td>0</td>\n",
              "      <td>9</td>\n",
              "      <td>148</td>\n",
              "    </tr>\n",
              "    <tr>\n",
              "      <th>4</th>\n",
              "      <td>1049544313</td>\n",
              "      <td>Balteus Belt</td>\n",
              "      <td>Apparel</td>\n",
              "      <td>Fashion</td>\n",
              "      <td>USD</td>\n",
              "      <td>1/1/2015</td>\n",
              "      <td>8000</td>\n",
              "      <td>11/18/2014 21:17</td>\n",
              "      <td>1563.00</td>\n",
              "      <td>failed</td>\n",
              "      <td>16</td>\n",
              "      <td>US</td>\n",
              "      <td>1563.00</td>\n",
              "      <td>1563.00</td>\n",
              "      <td>8000.00</td>\n",
              "      <td>1</td>\n",
              "      <td>1563</td>\n",
              "      <td>7</td>\n",
              "    </tr>\n",
              "  </tbody>\n",
              "</table>\n",
              "</div>\n",
              "      <button class=\"colab-df-convert\" onclick=\"convertToInteractive('df-f7964ed9-8add-45a2-a99a-1e3d1a5aa8da')\"\n",
              "              title=\"Convert this dataframe to an interactive table.\"\n",
              "              style=\"display:none;\">\n",
              "        \n",
              "  <svg xmlns=\"http://www.w3.org/2000/svg\" height=\"24px\"viewBox=\"0 0 24 24\"\n",
              "       width=\"24px\">\n",
              "    <path d=\"M0 0h24v24H0V0z\" fill=\"none\"/>\n",
              "    <path d=\"M18.56 5.44l.94 2.06.94-2.06 2.06-.94-2.06-.94-.94-2.06-.94 2.06-2.06.94zm-11 1L8.5 8.5l.94-2.06 2.06-.94-2.06-.94L8.5 2.5l-.94 2.06-2.06.94zm10 10l.94 2.06.94-2.06 2.06-.94-2.06-.94-.94-2.06-.94 2.06-2.06.94z\"/><path d=\"M17.41 7.96l-1.37-1.37c-.4-.4-.92-.59-1.43-.59-.52 0-1.04.2-1.43.59L10.3 9.45l-7.72 7.72c-.78.78-.78 2.05 0 2.83L4 21.41c.39.39.9.59 1.41.59.51 0 1.02-.2 1.41-.59l7.78-7.78 2.81-2.81c.8-.78.8-2.07 0-2.86zM5.41 20L4 18.59l7.72-7.72 1.47 1.35L5.41 20z\"/>\n",
              "  </svg>\n",
              "      </button>\n",
              "      \n",
              "  <style>\n",
              "    .colab-df-container {\n",
              "      display:flex;\n",
              "      flex-wrap:wrap;\n",
              "      gap: 12px;\n",
              "    }\n",
              "\n",
              "    .colab-df-convert {\n",
              "      background-color: #E8F0FE;\n",
              "      border: none;\n",
              "      border-radius: 50%;\n",
              "      cursor: pointer;\n",
              "      display: none;\n",
              "      fill: #1967D2;\n",
              "      height: 32px;\n",
              "      padding: 0 0 0 0;\n",
              "      width: 32px;\n",
              "    }\n",
              "\n",
              "    .colab-df-convert:hover {\n",
              "      background-color: #E2EBFA;\n",
              "      box-shadow: 0px 1px 2px rgba(60, 64, 67, 0.3), 0px 1px 3px 1px rgba(60, 64, 67, 0.15);\n",
              "      fill: #174EA6;\n",
              "    }\n",
              "\n",
              "    [theme=dark] .colab-df-convert {\n",
              "      background-color: #3B4455;\n",
              "      fill: #D2E3FC;\n",
              "    }\n",
              "\n",
              "    [theme=dark] .colab-df-convert:hover {\n",
              "      background-color: #434B5C;\n",
              "      box-shadow: 0px 1px 3px 1px rgba(0, 0, 0, 0.15);\n",
              "      filter: drop-shadow(0px 1px 2px rgba(0, 0, 0, 0.3));\n",
              "      fill: #FFFFFF;\n",
              "    }\n",
              "  </style>\n",
              "\n",
              "      <script>\n",
              "        const buttonEl =\n",
              "          document.querySelector('#df-f7964ed9-8add-45a2-a99a-1e3d1a5aa8da button.colab-df-convert');\n",
              "        buttonEl.style.display =\n",
              "          google.colab.kernel.accessAllowed ? 'block' : 'none';\n",
              "\n",
              "        async function convertToInteractive(key) {\n",
              "          const element = document.querySelector('#df-f7964ed9-8add-45a2-a99a-1e3d1a5aa8da');\n",
              "          const dataTable =\n",
              "            await google.colab.kernel.invokeFunction('convertToInteractive',\n",
              "                                                     [key], {});\n",
              "          if (!dataTable) return;\n",
              "\n",
              "          const docLinkHtml = 'Like what you see? Visit the ' +\n",
              "            '<a target=\"_blank\" href=https://colab.research.google.com/notebooks/data_table.ipynb>data table notebook</a>'\n",
              "            + ' to learn more about interactive tables.';\n",
              "          element.innerHTML = '';\n",
              "          dataTable['output_type'] = 'display_data';\n",
              "          await google.colab.output.renderOutput(dataTable, element);\n",
              "          const docLink = document.createElement('div');\n",
              "          docLink.innerHTML = docLinkHtml;\n",
              "          element.appendChild(docLink);\n",
              "        }\n",
              "      </script>\n",
              "    </div>\n",
              "  </div>\n",
              "  "
            ]
          },
          "metadata": {},
          "execution_count": 11
        }
      ]
    },
    {
      "cell_type": "markdown",
      "source": [
        "The above lines of code performs the data transformation, in which the raw data uploaded through the url is converted into well structured or formatted. \n",
        "\n",
        "The new formatted file does not have null values, duplicates and other non-compatible values which can halt the execution of the program. \n",
        "\n",
        "Kickstarter data is now categorized into a format where there are no impediments while executing any piece of code."
      ],
      "metadata": {
        "id": "-T30qwVBBZXS"
      }
    },
    {
      "cell_type": "markdown",
      "source": [
        "2. Data Substitution: Substitute values in at least two variables. Insert a text section into your notebook and explain in no less than 3 sentences how you decided what values to use for substitution and, in addition to your explanation, show your code.\n",
        "\n"
      ],
      "metadata": {
        "id": "gqZusJjVvrpR"
      }
    },
    {
      "cell_type": "code",
      "source": [
        "#variable 1: main_category-Technology\n",
        "k2 = kickstarter\n",
        "k2.main_category.unique()"
      ],
      "metadata": {
        "colab": {
          "base_uri": "https://localhost:8080/"
        },
        "id": "aVxHcoELvq-4",
        "outputId": "176f1b03-f3d3-4ebf-c50c-bf3189328806"
      },
      "execution_count": null,
      "outputs": [
        {
          "output_type": "execute_result",
          "data": {
            "text/plain": [
              "array(['Theater', 'Film & Video', 'Art', 'Games', 'Fashion', 'Publishing',\n",
              "       'Technology', 'Food', 'Music', 'Design', 'Crafts', 'Journalism',\n",
              "       'Dance', 'Comics', 'Photography'], dtype=object)"
            ]
          },
          "metadata": {},
          "execution_count": 12
        }
      ]
    },
    {
      "cell_type": "code",
      "source": [
        "# Instead of building another column to see any transformations, we will substitute data in place this time around.\n",
        "# For this purpose, we're using the replace() method from pandas\n",
        "k2.main_category.replace('Technology','Automation', inplace=True)\n",
        "\n",
        "# Did we indeed replace all '?'? Let's check:\n",
        "k2[k2['main_category'] == 'Technology']"
      ],
      "metadata": {
        "colab": {
          "base_uri": "https://localhost:8080/",
          "height": 131
        },
        "id": "-Hn1CBhsv6rm",
        "outputId": "1febfc93-3fc1-4942-9ead-9d89d4d356f3"
      },
      "execution_count": null,
      "outputs": [
        {
          "output_type": "execute_result",
          "data": {
            "text/plain": [
              "Empty DataFrame\n",
              "Columns: [ID, name, category, main_category, currency, deadline, goal, launched, pledged, state, backers, country, usd pledged, usd_pledged_real, usd_goal_real, state_num, pledged_int, category_num]\n",
              "Index: []"
            ],
            "text/html": [
              "\n",
              "  <div id=\"df-cc86e4e9-4e38-43eb-bb0e-fceb37c9ef5b\">\n",
              "    <div class=\"colab-df-container\">\n",
              "      <div>\n",
              "<style scoped>\n",
              "    .dataframe tbody tr th:only-of-type {\n",
              "        vertical-align: middle;\n",
              "    }\n",
              "\n",
              "    .dataframe tbody tr th {\n",
              "        vertical-align: top;\n",
              "    }\n",
              "\n",
              "    .dataframe thead th {\n",
              "        text-align: right;\n",
              "    }\n",
              "</style>\n",
              "<table border=\"1\" class=\"dataframe\">\n",
              "  <thead>\n",
              "    <tr style=\"text-align: right;\">\n",
              "      <th></th>\n",
              "      <th>ID</th>\n",
              "      <th>name</th>\n",
              "      <th>category</th>\n",
              "      <th>main_category</th>\n",
              "      <th>currency</th>\n",
              "      <th>deadline</th>\n",
              "      <th>goal</th>\n",
              "      <th>launched</th>\n",
              "      <th>pledged</th>\n",
              "      <th>state</th>\n",
              "      <th>backers</th>\n",
              "      <th>country</th>\n",
              "      <th>usd pledged</th>\n",
              "      <th>usd_pledged_real</th>\n",
              "      <th>usd_goal_real</th>\n",
              "      <th>state_num</th>\n",
              "      <th>pledged_int</th>\n",
              "      <th>category_num</th>\n",
              "    </tr>\n",
              "  </thead>\n",
              "  <tbody>\n",
              "  </tbody>\n",
              "</table>\n",
              "</div>\n",
              "      <button class=\"colab-df-convert\" onclick=\"convertToInteractive('df-cc86e4e9-4e38-43eb-bb0e-fceb37c9ef5b')\"\n",
              "              title=\"Convert this dataframe to an interactive table.\"\n",
              "              style=\"display:none;\">\n",
              "        \n",
              "  <svg xmlns=\"http://www.w3.org/2000/svg\" height=\"24px\"viewBox=\"0 0 24 24\"\n",
              "       width=\"24px\">\n",
              "    <path d=\"M0 0h24v24H0V0z\" fill=\"none\"/>\n",
              "    <path d=\"M18.56 5.44l.94 2.06.94-2.06 2.06-.94-2.06-.94-.94-2.06-.94 2.06-2.06.94zm-11 1L8.5 8.5l.94-2.06 2.06-.94-2.06-.94L8.5 2.5l-.94 2.06-2.06.94zm10 10l.94 2.06.94-2.06 2.06-.94-2.06-.94-.94-2.06-.94 2.06-2.06.94z\"/><path d=\"M17.41 7.96l-1.37-1.37c-.4-.4-.92-.59-1.43-.59-.52 0-1.04.2-1.43.59L10.3 9.45l-7.72 7.72c-.78.78-.78 2.05 0 2.83L4 21.41c.39.39.9.59 1.41.59.51 0 1.02-.2 1.41-.59l7.78-7.78 2.81-2.81c.8-.78.8-2.07 0-2.86zM5.41 20L4 18.59l7.72-7.72 1.47 1.35L5.41 20z\"/>\n",
              "  </svg>\n",
              "      </button>\n",
              "      \n",
              "  <style>\n",
              "    .colab-df-container {\n",
              "      display:flex;\n",
              "      flex-wrap:wrap;\n",
              "      gap: 12px;\n",
              "    }\n",
              "\n",
              "    .colab-df-convert {\n",
              "      background-color: #E8F0FE;\n",
              "      border: none;\n",
              "      border-radius: 50%;\n",
              "      cursor: pointer;\n",
              "      display: none;\n",
              "      fill: #1967D2;\n",
              "      height: 32px;\n",
              "      padding: 0 0 0 0;\n",
              "      width: 32px;\n",
              "    }\n",
              "\n",
              "    .colab-df-convert:hover {\n",
              "      background-color: #E2EBFA;\n",
              "      box-shadow: 0px 1px 2px rgba(60, 64, 67, 0.3), 0px 1px 3px 1px rgba(60, 64, 67, 0.15);\n",
              "      fill: #174EA6;\n",
              "    }\n",
              "\n",
              "    [theme=dark] .colab-df-convert {\n",
              "      background-color: #3B4455;\n",
              "      fill: #D2E3FC;\n",
              "    }\n",
              "\n",
              "    [theme=dark] .colab-df-convert:hover {\n",
              "      background-color: #434B5C;\n",
              "      box-shadow: 0px 1px 3px 1px rgba(0, 0, 0, 0.15);\n",
              "      filter: drop-shadow(0px 1px 2px rgba(0, 0, 0, 0.3));\n",
              "      fill: #FFFFFF;\n",
              "    }\n",
              "  </style>\n",
              "\n",
              "      <script>\n",
              "        const buttonEl =\n",
              "          document.querySelector('#df-cc86e4e9-4e38-43eb-bb0e-fceb37c9ef5b button.colab-df-convert');\n",
              "        buttonEl.style.display =\n",
              "          google.colab.kernel.accessAllowed ? 'block' : 'none';\n",
              "\n",
              "        async function convertToInteractive(key) {\n",
              "          const element = document.querySelector('#df-cc86e4e9-4e38-43eb-bb0e-fceb37c9ef5b');\n",
              "          const dataTable =\n",
              "            await google.colab.kernel.invokeFunction('convertToInteractive',\n",
              "                                                     [key], {});\n",
              "          if (!dataTable) return;\n",
              "\n",
              "          const docLinkHtml = 'Like what you see? Visit the ' +\n",
              "            '<a target=\"_blank\" href=https://colab.research.google.com/notebooks/data_table.ipynb>data table notebook</a>'\n",
              "            + ' to learn more about interactive tables.';\n",
              "          element.innerHTML = '';\n",
              "          dataTable['output_type'] = 'display_data';\n",
              "          await google.colab.output.renderOutput(dataTable, element);\n",
              "          const docLink = document.createElement('div');\n",
              "          docLink.innerHTML = docLinkHtml;\n",
              "          element.appendChild(docLink);\n",
              "        }\n",
              "      </script>\n",
              "    </div>\n",
              "  </div>\n",
              "  "
            ]
          },
          "metadata": {},
          "execution_count": 13
        }
      ]
    },
    {
      "cell_type": "code",
      "source": [
        "k2.main_category.unique()"
      ],
      "metadata": {
        "colab": {
          "base_uri": "https://localhost:8080/"
        },
        "id": "tD52ggivv9II",
        "outputId": "615f25ce-4858-44e5-b0cb-46d67c56d359"
      },
      "execution_count": null,
      "outputs": [
        {
          "output_type": "execute_result",
          "data": {
            "text/plain": [
              "array(['Theater', 'Film & Video', 'Art', 'Games', 'Fashion', 'Publishing',\n",
              "       'Automation', 'Food', 'Music', 'Design', 'Crafts', 'Journalism',\n",
              "       'Dance', 'Comics', 'Photography'], dtype=object)"
            ]
          },
          "metadata": {},
          "execution_count": 14
        }
      ]
    },
    {
      "cell_type": "code",
      "source": [
        "#Variable 2: \"state-canceled\"\n",
        "k2.state.unique()"
      ],
      "metadata": {
        "colab": {
          "base_uri": "https://localhost:8080/"
        },
        "id": "GzswCqJ_v_21",
        "outputId": "62873f6c-c177-40d0-e41c-21d6c08f84af"
      },
      "execution_count": null,
      "outputs": [
        {
          "output_type": "execute_result",
          "data": {
            "text/plain": [
              "array(['failed', 'successful', 'canceled', 'suspended', 'live'],\n",
              "      dtype=object)"
            ]
          },
          "metadata": {},
          "execution_count": 15
        }
      ]
    },
    {
      "cell_type": "code",
      "source": [
        "k2.state.replace('canceled','cancelled', inplace=True)\n",
        "k2.state.unique()"
      ],
      "metadata": {
        "colab": {
          "base_uri": "https://localhost:8080/"
        },
        "id": "5HjYveMJwB4n",
        "outputId": "479d03e5-a7c0-472c-8fbe-a534dd317921"
      },
      "execution_count": null,
      "outputs": [
        {
          "output_type": "execute_result",
          "data": {
            "text/plain": [
              "array(['failed', 'successful', 'cancelled', 'suspended', 'live'],\n",
              "      dtype=object)"
            ]
          },
          "metadata": {},
          "execution_count": 16
        }
      ]
    },
    {
      "cell_type": "markdown",
      "source": [
        "For the data substitution, I substituted \"cancelled\" with canceled in the \"state\" variable because \"cancelled\" is misspelled. \n",
        "\n",
        "In the given dataset, I replaced the Technology with \"Automation\" to remove duplication of the same category.\n",
        "\n",
        "The above are some of the examples for the data substitution. If there are any corrections in the raw data, data substitution becomes very useful."
      ],
      "metadata": {
        "id": "G5_aLmn5x5An"
      }
    },
    {
      "cell_type": "markdown",
      "source": [
        "3. Data Reduction: Pick two variables that could be simplified by binning or bucketing, or by normalization or standardization. Then perform the operation(s) you have chosen. Insert a text section into your notebook and explain in no less than 3 sentences what benefit this may provide for any later analysis."
      ],
      "metadata": {
        "id": "G-jIYTqzwJvi"
      }
    },
    {
      "cell_type": "code",
      "source": [
        "kickstarter.backers.describe()"
      ],
      "metadata": {
        "id": "ZeltBCCAwHFP"
      },
      "execution_count": null,
      "outputs": []
    },
    {
      "cell_type": "code",
      "source": [
        "bins = np.linspace(kickstarter.backers.min(),kickstarter.backers.max(),7)\n",
        "bins"
      ],
      "metadata": {
        "id": "og6_LBXYwPdf"
      },
      "execution_count": null,
      "outputs": []
    },
    {
      "cell_type": "code",
      "source": [
        "labels = ['very_low', 'low', 'medium','Moderate_high' ,'high','very_high']"
      ],
      "metadata": {
        "id": "DYGVNHnGwSBS"
      },
      "execution_count": null,
      "outputs": []
    },
    {
      "cell_type": "code",
      "source": [
        "# Variable 1: backers simplified by using Binning methods.\n",
        "k3 = kickstarter\n",
        "k3['bins'] = pd.cut(k3['backers'], bins=bins, labels=labels, include_lowest=True)\n",
        "k3[k3.backers>= 40000]"
      ],
      "metadata": {
        "id": "czvAnr5QwUGS"
      },
      "execution_count": null,
      "outputs": []
    },
    {
      "cell_type": "code",
      "source": [
        "k3.groupby(['bins']).count()"
      ],
      "metadata": {
        "id": "AarGv4KhwU6R"
      },
      "execution_count": null,
      "outputs": []
    },
    {
      "cell_type": "code",
      "source": [
        "kickstarter.usd_goal_real.describe()"
      ],
      "metadata": {
        "id": "xKrzNPewwWs7"
      },
      "execution_count": null,
      "outputs": []
    },
    {
      "cell_type": "code",
      "source": [
        "# Variable 2: usd_goal_real simplified by using Bucketing method.\n",
        "# Setting up our 5 buckets and their labels\n",
        "buckets = [ 0, 30279173.98, 60558347.96, 90837521.94, 121116695.9 ,151395869.9]\n",
        "bucketlabels = ['very_low', 'low', 'middle', 'high', 'super-high']\n",
        "\n",
        "# Using cut() to separate data into the buckets we have built\n",
        "k3['buckets'] = pd.cut(k3['usd_goal_real'] , bins=buckets, labels=bucketlabels, include_lowest=True)\n",
        "\n",
        "# Check if we have the new attribute 'buckets' at the end of our dataset\n",
        "k3[k3.usd_goal_real>= 70000000]"
      ],
      "metadata": {
        "id": "jzKZYqfIwaKF"
      },
      "execution_count": null,
      "outputs": []
    },
    {
      "cell_type": "code",
      "source": [
        "k3.groupby(['buckets']).count()"
      ],
      "metadata": {
        "id": "JTihNCHkwccG"
      },
      "execution_count": null,
      "outputs": []
    },
    {
      "cell_type": "markdown",
      "source": [
        "For Data reduction, I chose the backers variable values to minimize using the binning method because the backers data in this data set is used to determine how many backers each ID has, and categorizing it in terms of range is helpful in determining the range it falls into.\n",
        "\n",
        "I chose usd goal real variable values to minimize using the bucketing approach because grouping usd goal real in terms of range is useful for determining which range it falls into when analyzing how prots we acquire.\n",
        "\n",
        "\n",
        "For backers data, I used the binning approach because backers data should be distributed evenly, and for usd real goal, I chose the bucketing method since it is not necessary to distribute predicted profits equally."
      ],
      "metadata": {
        "id": "C9v1K-MV2drW"
      }
    },
    {
      "cell_type": "markdown",
      "source": [
        "*4. Now that you have a better dataset, think about any important organizational analytical questions that management could ask about the dataset in order to help them make business or organizational decisions. *"
      ],
      "metadata": {
        "id": "k53w9rpNwgcF"
      }
    },
    {
      "cell_type": "markdown",
      "source": [
        "From the above analysis, there can be a co-relation between the backers and usd real goal. How does the backers have implication on the overall state of the project?\n"
      ],
      "metadata": {
        "id": "-BN8gVXZ8wPW"
      }
    }
  ]
}